{
  "nbformat": 4,
  "nbformat_minor": 0,
  "metadata": {
    "colab": {
      "name": "IDL_Group2_Group_Project.ipynb",
      "provenance": [],
      "collapsed_sections": [],
      "toc_visible": true
    },
    "kernelspec": {
      "name": "python3",
      "display_name": "Python 3"
    }
  },
  "cells": [
    {
      "cell_type": "code",
      "metadata": {
        "id": "kUzyCEz8hA8s"
      },
      "source": [
        "from google.colab import drive\n",
        "drive.mount('/content/drive')"
      ],
      "execution_count": null,
      "outputs": []
    },
    {
      "cell_type": "markdown",
      "metadata": {
        "id": "UkqvOgJEZwq8"
      },
      "source": [
        "# Group Project - Group 2\n",
        "**OPIM 5509: Introduction to Deep Learning - University of Connecticut**\n",
        "---------------------------------------------------------------------------\n"
      ]
    },
    {
      "cell_type": "markdown",
      "metadata": {
        "id": "a2PyINBRaTdu"
      },
      "source": [
        "#**Introduction**"
      ]
    },
    {
      "cell_type": "markdown",
      "metadata": {
        "id": "W0_U-7hULuvk"
      },
      "source": [
        "\n",
        "The insurance industry collects over $1 trillion in premiums each year across more than 7,000 companies. The sheer size of this market raises the cost of insurance fraud significantly by providing more opportunities and greater incentives for committing illegal activities. [[1]](https://fbi.gov/stats-services/publications/insurance-fraud)\n",
        "\n",
        "According to the Insurance Information Institute, insurance fraud is defined as “a deliberate deception perpetrated against or by an insurance company or agent for the purpose of financial gain” [[2]](https://www.iii.org/article/background-on-insurance-fraud). Common types of fraud include inflating claims, staging accidents, submitting claims for damage or injuries that never happened, or even misrepresenting facts on legal paperwork. \n",
        "\n",
        "Fraudulent activity can be internal or external in nature. Internal fraud typically involves agents of the insurance company perpetrating fraud against the company while external are committed by a wide range of actors from policyholders, to medical providers to vendors and others. Common types of external examples are creating fraudulent claims or exaggerating actual claims, among others. [[3]](https://doi.nebraska.gov/sites/doi.nebraska.gov/files/doc/examples.pdf)\n",
        "\n",
        "Among all types of insurance fraud, the National Insurance Crime Bureau reports that auto fraud is the most common. Not only have auto related cases historically been on the rise, studies have also found that about 25% of all bodily injury clams related to auto crashes have been fraudulent. [[4]](https://www.foxbusiness.com/features/the-true-cost-of-auto-insurance-fraud-how-we-all-pay-in-increased-premiums)\n",
        "\n",
        "When it comes to insurance related fraud, there are two categories, hard and soft fraud. Hard fraud refers to situations where someone stages an injury or loss in order to get a claim pay out. Two examples of this would be staging a triggered rear end auto collision and planting a witness while another would be planned vehicle theft. Soft fraud occurs more frequently and involves exaggeration or lying on an otherwise legitimate claim such as exaggerating repair costs after an auto collision or reporting injuries not sustained through the claim events. [[5]](https://www.allstate.com/tr/car-insurance/5-types-of-car-insurance-fraud.aspx)\n",
        "\n",
        "According to an Insurance Research Council study done in 2012, it is estimates that claim fraud an\n",
        "buildup added between $5.6 & 7.7 billion in excess payments to auto injury claims paid in the United States in 2012 alone. [[6]](https://www.insurance-research.org/sites/default/files/downloads/IRC%20Fraud%20News%20Release.pdf)\n",
        "\n",
        "While this translates into billions of dollars of cost for insurance companies, it also has a negative impact on the normal policyholder. According to estimates from the National Insurance Crime Bureau, auto insurance fraud adds $200 to $300 a year to individual insurance premiums. [[7]](https://www.edmunds.com/auto-insurance/auto-insurance-fraud-what-it-costs-you.html#:~:text=Desperate%20people%20are%20going%20to,they%20can%20no%20longer%20afford.&text=Auto%20insurance%20fraud%20adds%20%24200,Insurance%20Crime%20Bureau%20(NICB))\n",
        "\n",
        "This presents a two fold benefit if fraud detection techniques using data can be leveraged to reduce and minimise the volume and cost of fraudulent claims, both to companies and individuals. \n",
        "Senior VP of the IRC, said “The costs associated with auto injury claim abuse make auto insurance more expensive for everyone,” efforts to lower insurance costs must include measures\n",
        "aimed at reducing the amount of fraud and buildup in the system.” \n",
        "\n",
        "Due to the sheer size of the insurance industry and the volume of claims, preventing losses from fraud entirely is impossible, so it’s important for companies to be able to leverage data analytics and modelling techniques in order to detect fraud, and ultimately mitigate its occurrence. In the past, fraud detection was mainly done by claims agents who had to rely on few facts and a large amount of intuition. [[8]](https://www.reutersevents.com/insurance/fraud/role-data-and-analytics-insurance-fraud-detection)\n",
        "\n",
        "Most insurance companies did not have automated ways to detect and mitigate fraudulent claims due to heavy investment that was needed into data analytics and modelling. However, new technology and advances in data analysis has introduced tools to make fraud review and detection possible. [[9]](https://www.infosys.com/industries/insurance/white-papers/documents/new-whistleblower-insurance-fraud.pdf)\n",
        "\n",
        "Our project aims to help detect fraudulent claims in auto data in a statistical, automated fashion using machine learning techniques that can be leveraged and improved on a greater scale to provide insights into what variables contribute to the detection of fraud. Similar efforts, but on a broader scale, have been done by R. Roy and K. Thomas George. [[10]](ieeexplore.ieee.org/abstract/document/8074258)\n",
        "\n"
      ]
    },
    {
      "cell_type": "markdown",
      "metadata": {
        "id": "t76B9sChdy5m"
      },
      "source": [
        "WORKS CITED can be found at the end of this document."
      ]
    },
    {
      "cell_type": "markdown",
      "metadata": {
        "id": "jZhyoyMIpNS4"
      },
      "source": [
        "#**Problem Statement**"
      ]
    },
    {
      "cell_type": "markdown",
      "metadata": {
        "id": "bdY2QLi-pR1s"
      },
      "source": [
        "Insurance fraud is so prevalent today that it is now the second most costly white-collar crime in America. Car insurance fraudulent claims have increased by 45% since the last year, with 21-30 year-olds making up the largest group. According to the National Insurance Crime Bureau, it is estimated that more than 10% of car insurance claims are fraudulent, costing thousands of dollars to insurance companies. The price for these frauds is ultimately borne by the common man. Innocent policyholders are often impacted by the high premiums and unnecessary extra fees that are charged to prevent fraud. It is more important now than ever to identify what kind of factors contribute most towards fraudulent claims and curb them or find a way to investigate more into them.\n"
      ]
    },
    {
      "cell_type": "markdown",
      "metadata": {
        "id": "ij4UjxdKbMyJ"
      },
      "source": [
        "#**Data Gathering and Description**"
      ]
    },
    {
      "cell_type": "markdown",
      "metadata": {
        "id": "btq7ts40Y0w3"
      },
      "source": [
        "Link to the dataset - https://docs.google.com/spreadsheets/d/1OokzRH6Zt4Vf4G3cuFKKJzwWKlaqETDeTccNhUIoChs/edit?usp=sharing"
      ]
    },
    {
      "cell_type": "markdown",
      "metadata": {
        "id": "w9A7J8S0i2Jd"
      },
      "source": [
        "The Data Source - \thttps://www.kaggle.com/roshansharma/insurance-claim"
      ]
    },
    {
      "cell_type": "markdown",
      "metadata": {
        "id": "V8G4nW-dZIYd"
      },
      "source": [
        "In order to obtain more information on fraudulent claims in the car insurance industry in the USA, we used a dataset that provides information of reported claims by insured clients among the states of Ohio, Illinois, and Indiana. This sample file contains 1000 rows and 27 columns which include client’s insurance information such as, months as customer, age, sex, occupation and income, etc. Additionally, this dataset also provides information related to the type of policy the customer holds and other important information that is used when filing a claim. \n"
      ]
    },
    {
      "cell_type": "markdown",
      "metadata": {
        "id": "QKbv7qXLpmZ9"
      },
      "source": [
        ""
      ]
    },
    {
      "cell_type": "markdown",
      "metadata": {
        "id": "6rleTenystG1"
      },
      "source": [
        "##**Import Modules**"
      ]
    },
    {
      "cell_type": "code",
      "metadata": {
        "id": "von7w35IZHFY"
      },
      "source": [
        "# import modules\n",
        "import pandas as pd # for data analysis\n",
        "import numpy as np # for numeric functions\n",
        "import matplotlib.pyplot as plt # for plotting\n",
        "from sklearn.preprocessing import LabelEncoder\n",
        "from keras.wrappers.scikit_learn import KerasClassifier\n",
        "from keras.utils import np_utils\n",
        "import seaborn as sns\n",
        "\n",
        "# for modeling\n",
        "from sklearn.preprocessing import MinMaxScaler\n",
        "from sklearn.model_selection import train_test_split\n",
        "from sklearn.preprocessing import LabelEncoder\n",
        "from sklearn.linear_model import LogisticRegression\n",
        "from keras.models import Sequential\n",
        "from keras.layers import Dense, Dropout\n",
        "from keras.callbacks import EarlyStopping\n",
        "from sklearn import metrics\n",
        "from sklearn.metrics import accuracy_score\n",
        "\n",
        "#for evaluation\n",
        "from sklearn.metrics import confusion_matrix\n",
        "from sklearn.metrics import classification_report\n"
      ],
      "execution_count": null,
      "outputs": []
    },
    {
      "cell_type": "code",
      "metadata": {
        "id": "z9edqpumbPzZ",
        "colab": {
          "base_uri": "https://localhost:8080/"
        },
        "outputId": "6733b633-9d47-48df-a296-2e840530d47d"
      },
      "source": [
        "# mount google drive\n",
        "from google.colab import drive\n",
        "drive.mount('/content/drive')"
      ],
      "execution_count": null,
      "outputs": [
        {
          "output_type": "stream",
          "text": [
            "Drive already mounted at /content/drive; to attempt to forcibly remount, call drive.mount(\"/content/drive\", force_remount=True).\n"
          ],
          "name": "stdout"
        }
      ]
    },
    {
      "cell_type": "code",
      "metadata": {
        "colab": {
          "base_uri": "https://localhost:8080/",
          "height": 573
        },
        "id": "cbCl7qDX0TPk",
        "outputId": "30d32f86-5d97-44eb-db7f-e7b503d761a3"
      },
      "source": [
        "# read data\n",
        "# navigate to the dataset and copy the path\n",
        "df = pd.read_csv('/content/drive/Shareddrives/Deep Learning/insurance_claims.csv')\n",
        "df"
      ],
      "execution_count": null,
      "outputs": [
        {
          "output_type": "execute_result",
          "data": {
            "text/html": [
              "<div>\n",
              "<style scoped>\n",
              "    .dataframe tbody tr th:only-of-type {\n",
              "        vertical-align: middle;\n",
              "    }\n",
              "\n",
              "    .dataframe tbody tr th {\n",
              "        vertical-align: top;\n",
              "    }\n",
              "\n",
              "    .dataframe thead th {\n",
              "        text-align: right;\n",
              "    }\n",
              "</style>\n",
              "<table border=\"1\" class=\"dataframe\">\n",
              "  <thead>\n",
              "    <tr style=\"text-align: right;\">\n",
              "      <th></th>\n",
              "      <th>months_as_customer</th>\n",
              "      <th>age</th>\n",
              "      <th>policy_number</th>\n",
              "      <th>policy_bind_date</th>\n",
              "      <th>policy_state</th>\n",
              "      <th>policy_csl</th>\n",
              "      <th>policy_deductable</th>\n",
              "      <th>policy_annual_premium</th>\n",
              "      <th>umbrella_limit</th>\n",
              "      <th>insured_zip</th>\n",
              "      <th>insured_sex</th>\n",
              "      <th>insured_education_level</th>\n",
              "      <th>insured_occupation</th>\n",
              "      <th>insured_hobbies</th>\n",
              "      <th>insured_relationship</th>\n",
              "      <th>capital-gains</th>\n",
              "      <th>capital-loss</th>\n",
              "      <th>incident_date</th>\n",
              "      <th>incident_type</th>\n",
              "      <th>collision_type</th>\n",
              "      <th>incident_severity</th>\n",
              "      <th>authorities_contacted</th>\n",
              "      <th>incident_state</th>\n",
              "      <th>incident_city</th>\n",
              "      <th>incident_location</th>\n",
              "      <th>incident_hour_of_the_day</th>\n",
              "      <th>number_of_vehicles_involved</th>\n",
              "      <th>property_damage</th>\n",
              "      <th>bodily_injuries</th>\n",
              "      <th>witnesses</th>\n",
              "      <th>police_report_available</th>\n",
              "      <th>total_claim_amount</th>\n",
              "      <th>injury_claim</th>\n",
              "      <th>property_claim</th>\n",
              "      <th>vehicle_claim</th>\n",
              "      <th>auto_make</th>\n",
              "      <th>auto_model</th>\n",
              "      <th>auto_year</th>\n",
              "      <th>fraud_reported</th>\n",
              "    </tr>\n",
              "  </thead>\n",
              "  <tbody>\n",
              "    <tr>\n",
              "      <th>0</th>\n",
              "      <td>328</td>\n",
              "      <td>48</td>\n",
              "      <td>521585</td>\n",
              "      <td>17-10-2014</td>\n",
              "      <td>OH</td>\n",
              "      <td>250/500</td>\n",
              "      <td>1000</td>\n",
              "      <td>1406.91</td>\n",
              "      <td>0</td>\n",
              "      <td>466132</td>\n",
              "      <td>MALE</td>\n",
              "      <td>MD</td>\n",
              "      <td>craft-repair</td>\n",
              "      <td>sleeping</td>\n",
              "      <td>husband</td>\n",
              "      <td>53300</td>\n",
              "      <td>0</td>\n",
              "      <td>25-01-2015</td>\n",
              "      <td>Single Vehicle Collision</td>\n",
              "      <td>Side Collision</td>\n",
              "      <td>Major Damage</td>\n",
              "      <td>Police</td>\n",
              "      <td>SC</td>\n",
              "      <td>Columbus</td>\n",
              "      <td>9935 4th Drive</td>\n",
              "      <td>5</td>\n",
              "      <td>1</td>\n",
              "      <td>YES</td>\n",
              "      <td>1</td>\n",
              "      <td>2</td>\n",
              "      <td>YES</td>\n",
              "      <td>71610</td>\n",
              "      <td>6510</td>\n",
              "      <td>13020</td>\n",
              "      <td>52080</td>\n",
              "      <td>Saab</td>\n",
              "      <td>92x</td>\n",
              "      <td>2004</td>\n",
              "      <td>Y</td>\n",
              "    </tr>\n",
              "    <tr>\n",
              "      <th>1</th>\n",
              "      <td>228</td>\n",
              "      <td>42</td>\n",
              "      <td>342868</td>\n",
              "      <td>27-06-2006</td>\n",
              "      <td>IN</td>\n",
              "      <td>250/500</td>\n",
              "      <td>2000</td>\n",
              "      <td>1197.22</td>\n",
              "      <td>5000000</td>\n",
              "      <td>468176</td>\n",
              "      <td>MALE</td>\n",
              "      <td>MD</td>\n",
              "      <td>machine-op-inspct</td>\n",
              "      <td>reading</td>\n",
              "      <td>other-relative</td>\n",
              "      <td>0</td>\n",
              "      <td>0</td>\n",
              "      <td>21-01-2015</td>\n",
              "      <td>Vehicle Theft</td>\n",
              "      <td>?</td>\n",
              "      <td>Minor Damage</td>\n",
              "      <td>Police</td>\n",
              "      <td>VA</td>\n",
              "      <td>Riverwood</td>\n",
              "      <td>6608 MLK Hwy</td>\n",
              "      <td>8</td>\n",
              "      <td>1</td>\n",
              "      <td>?</td>\n",
              "      <td>0</td>\n",
              "      <td>0</td>\n",
              "      <td>?</td>\n",
              "      <td>5070</td>\n",
              "      <td>780</td>\n",
              "      <td>780</td>\n",
              "      <td>3510</td>\n",
              "      <td>Mercedes</td>\n",
              "      <td>E400</td>\n",
              "      <td>2007</td>\n",
              "      <td>Y</td>\n",
              "    </tr>\n",
              "    <tr>\n",
              "      <th>2</th>\n",
              "      <td>134</td>\n",
              "      <td>29</td>\n",
              "      <td>687698</td>\n",
              "      <td>06-09-2000</td>\n",
              "      <td>OH</td>\n",
              "      <td>100/300</td>\n",
              "      <td>2000</td>\n",
              "      <td>1413.14</td>\n",
              "      <td>5000000</td>\n",
              "      <td>430632</td>\n",
              "      <td>FEMALE</td>\n",
              "      <td>PhD</td>\n",
              "      <td>sales</td>\n",
              "      <td>board-games</td>\n",
              "      <td>own-child</td>\n",
              "      <td>35100</td>\n",
              "      <td>0</td>\n",
              "      <td>22-02-2015</td>\n",
              "      <td>Multi-vehicle Collision</td>\n",
              "      <td>Rear Collision</td>\n",
              "      <td>Minor Damage</td>\n",
              "      <td>Police</td>\n",
              "      <td>NY</td>\n",
              "      <td>Columbus</td>\n",
              "      <td>7121 Francis Lane</td>\n",
              "      <td>7</td>\n",
              "      <td>3</td>\n",
              "      <td>NO</td>\n",
              "      <td>2</td>\n",
              "      <td>3</td>\n",
              "      <td>NO</td>\n",
              "      <td>34650</td>\n",
              "      <td>7700</td>\n",
              "      <td>3850</td>\n",
              "      <td>23100</td>\n",
              "      <td>Dodge</td>\n",
              "      <td>RAM</td>\n",
              "      <td>2007</td>\n",
              "      <td>N</td>\n",
              "    </tr>\n",
              "    <tr>\n",
              "      <th>3</th>\n",
              "      <td>256</td>\n",
              "      <td>41</td>\n",
              "      <td>227811</td>\n",
              "      <td>25-05-1990</td>\n",
              "      <td>IL</td>\n",
              "      <td>250/500</td>\n",
              "      <td>2000</td>\n",
              "      <td>1415.74</td>\n",
              "      <td>6000000</td>\n",
              "      <td>608117</td>\n",
              "      <td>FEMALE</td>\n",
              "      <td>PhD</td>\n",
              "      <td>armed-forces</td>\n",
              "      <td>board-games</td>\n",
              "      <td>unmarried</td>\n",
              "      <td>48900</td>\n",
              "      <td>-62400</td>\n",
              "      <td>10-01-2015</td>\n",
              "      <td>Single Vehicle Collision</td>\n",
              "      <td>Front Collision</td>\n",
              "      <td>Major Damage</td>\n",
              "      <td>Police</td>\n",
              "      <td>OH</td>\n",
              "      <td>Arlington</td>\n",
              "      <td>6956 Maple Drive</td>\n",
              "      <td>5</td>\n",
              "      <td>1</td>\n",
              "      <td>?</td>\n",
              "      <td>1</td>\n",
              "      <td>2</td>\n",
              "      <td>NO</td>\n",
              "      <td>63400</td>\n",
              "      <td>6340</td>\n",
              "      <td>6340</td>\n",
              "      <td>50720</td>\n",
              "      <td>Chevrolet</td>\n",
              "      <td>Tahoe</td>\n",
              "      <td>2014</td>\n",
              "      <td>Y</td>\n",
              "    </tr>\n",
              "    <tr>\n",
              "      <th>4</th>\n",
              "      <td>228</td>\n",
              "      <td>44</td>\n",
              "      <td>367455</td>\n",
              "      <td>06-06-2014</td>\n",
              "      <td>IL</td>\n",
              "      <td>500/1000</td>\n",
              "      <td>1000</td>\n",
              "      <td>1583.91</td>\n",
              "      <td>6000000</td>\n",
              "      <td>610706</td>\n",
              "      <td>MALE</td>\n",
              "      <td>Associate</td>\n",
              "      <td>sales</td>\n",
              "      <td>board-games</td>\n",
              "      <td>unmarried</td>\n",
              "      <td>66000</td>\n",
              "      <td>-46000</td>\n",
              "      <td>17-02-2015</td>\n",
              "      <td>Vehicle Theft</td>\n",
              "      <td>?</td>\n",
              "      <td>Minor Damage</td>\n",
              "      <td>None</td>\n",
              "      <td>NY</td>\n",
              "      <td>Arlington</td>\n",
              "      <td>3041 3rd Ave</td>\n",
              "      <td>20</td>\n",
              "      <td>1</td>\n",
              "      <td>NO</td>\n",
              "      <td>0</td>\n",
              "      <td>1</td>\n",
              "      <td>NO</td>\n",
              "      <td>6500</td>\n",
              "      <td>1300</td>\n",
              "      <td>650</td>\n",
              "      <td>4550</td>\n",
              "      <td>Accura</td>\n",
              "      <td>RSX</td>\n",
              "      <td>2009</td>\n",
              "      <td>N</td>\n",
              "    </tr>\n",
              "    <tr>\n",
              "      <th>...</th>\n",
              "      <td>...</td>\n",
              "      <td>...</td>\n",
              "      <td>...</td>\n",
              "      <td>...</td>\n",
              "      <td>...</td>\n",
              "      <td>...</td>\n",
              "      <td>...</td>\n",
              "      <td>...</td>\n",
              "      <td>...</td>\n",
              "      <td>...</td>\n",
              "      <td>...</td>\n",
              "      <td>...</td>\n",
              "      <td>...</td>\n",
              "      <td>...</td>\n",
              "      <td>...</td>\n",
              "      <td>...</td>\n",
              "      <td>...</td>\n",
              "      <td>...</td>\n",
              "      <td>...</td>\n",
              "      <td>...</td>\n",
              "      <td>...</td>\n",
              "      <td>...</td>\n",
              "      <td>...</td>\n",
              "      <td>...</td>\n",
              "      <td>...</td>\n",
              "      <td>...</td>\n",
              "      <td>...</td>\n",
              "      <td>...</td>\n",
              "      <td>...</td>\n",
              "      <td>...</td>\n",
              "      <td>...</td>\n",
              "      <td>...</td>\n",
              "      <td>...</td>\n",
              "      <td>...</td>\n",
              "      <td>...</td>\n",
              "      <td>...</td>\n",
              "      <td>...</td>\n",
              "      <td>...</td>\n",
              "      <td>...</td>\n",
              "    </tr>\n",
              "    <tr>\n",
              "      <th>995</th>\n",
              "      <td>3</td>\n",
              "      <td>38</td>\n",
              "      <td>941851</td>\n",
              "      <td>16-07-1991</td>\n",
              "      <td>OH</td>\n",
              "      <td>500/1000</td>\n",
              "      <td>1000</td>\n",
              "      <td>1310.80</td>\n",
              "      <td>0</td>\n",
              "      <td>431289</td>\n",
              "      <td>FEMALE</td>\n",
              "      <td>Masters</td>\n",
              "      <td>craft-repair</td>\n",
              "      <td>paintball</td>\n",
              "      <td>unmarried</td>\n",
              "      <td>0</td>\n",
              "      <td>0</td>\n",
              "      <td>22-02-2015</td>\n",
              "      <td>Single Vehicle Collision</td>\n",
              "      <td>Front Collision</td>\n",
              "      <td>Minor Damage</td>\n",
              "      <td>Fire</td>\n",
              "      <td>NC</td>\n",
              "      <td>Northbrook</td>\n",
              "      <td>6045 Andromedia St</td>\n",
              "      <td>20</td>\n",
              "      <td>1</td>\n",
              "      <td>YES</td>\n",
              "      <td>0</td>\n",
              "      <td>1</td>\n",
              "      <td>?</td>\n",
              "      <td>87200</td>\n",
              "      <td>17440</td>\n",
              "      <td>8720</td>\n",
              "      <td>61040</td>\n",
              "      <td>Honda</td>\n",
              "      <td>Accord</td>\n",
              "      <td>2006</td>\n",
              "      <td>N</td>\n",
              "    </tr>\n",
              "    <tr>\n",
              "      <th>996</th>\n",
              "      <td>285</td>\n",
              "      <td>41</td>\n",
              "      <td>186934</td>\n",
              "      <td>05-01-2014</td>\n",
              "      <td>IL</td>\n",
              "      <td>100/300</td>\n",
              "      <td>1000</td>\n",
              "      <td>1436.79</td>\n",
              "      <td>0</td>\n",
              "      <td>608177</td>\n",
              "      <td>FEMALE</td>\n",
              "      <td>PhD</td>\n",
              "      <td>prof-specialty</td>\n",
              "      <td>sleeping</td>\n",
              "      <td>wife</td>\n",
              "      <td>70900</td>\n",
              "      <td>0</td>\n",
              "      <td>24-01-2015</td>\n",
              "      <td>Single Vehicle Collision</td>\n",
              "      <td>Rear Collision</td>\n",
              "      <td>Major Damage</td>\n",
              "      <td>Fire</td>\n",
              "      <td>SC</td>\n",
              "      <td>Northbend</td>\n",
              "      <td>3092 Texas Drive</td>\n",
              "      <td>23</td>\n",
              "      <td>1</td>\n",
              "      <td>YES</td>\n",
              "      <td>2</td>\n",
              "      <td>3</td>\n",
              "      <td>?</td>\n",
              "      <td>108480</td>\n",
              "      <td>18080</td>\n",
              "      <td>18080</td>\n",
              "      <td>72320</td>\n",
              "      <td>Volkswagen</td>\n",
              "      <td>Passat</td>\n",
              "      <td>2015</td>\n",
              "      <td>N</td>\n",
              "    </tr>\n",
              "    <tr>\n",
              "      <th>997</th>\n",
              "      <td>130</td>\n",
              "      <td>34</td>\n",
              "      <td>918516</td>\n",
              "      <td>17-02-2003</td>\n",
              "      <td>OH</td>\n",
              "      <td>250/500</td>\n",
              "      <td>500</td>\n",
              "      <td>1383.49</td>\n",
              "      <td>3000000</td>\n",
              "      <td>442797</td>\n",
              "      <td>FEMALE</td>\n",
              "      <td>Masters</td>\n",
              "      <td>armed-forces</td>\n",
              "      <td>bungie-jumping</td>\n",
              "      <td>other-relative</td>\n",
              "      <td>35100</td>\n",
              "      <td>0</td>\n",
              "      <td>23-01-2015</td>\n",
              "      <td>Multi-vehicle Collision</td>\n",
              "      <td>Side Collision</td>\n",
              "      <td>Minor Damage</td>\n",
              "      <td>Police</td>\n",
              "      <td>NC</td>\n",
              "      <td>Arlington</td>\n",
              "      <td>7629 5th St</td>\n",
              "      <td>4</td>\n",
              "      <td>3</td>\n",
              "      <td>?</td>\n",
              "      <td>2</td>\n",
              "      <td>3</td>\n",
              "      <td>YES</td>\n",
              "      <td>67500</td>\n",
              "      <td>7500</td>\n",
              "      <td>7500</td>\n",
              "      <td>52500</td>\n",
              "      <td>Suburu</td>\n",
              "      <td>Impreza</td>\n",
              "      <td>1996</td>\n",
              "      <td>N</td>\n",
              "    </tr>\n",
              "    <tr>\n",
              "      <th>998</th>\n",
              "      <td>458</td>\n",
              "      <td>62</td>\n",
              "      <td>533940</td>\n",
              "      <td>18-11-2011</td>\n",
              "      <td>IL</td>\n",
              "      <td>500/1000</td>\n",
              "      <td>2000</td>\n",
              "      <td>1356.92</td>\n",
              "      <td>5000000</td>\n",
              "      <td>441714</td>\n",
              "      <td>MALE</td>\n",
              "      <td>Associate</td>\n",
              "      <td>handlers-cleaners</td>\n",
              "      <td>base-jumping</td>\n",
              "      <td>wife</td>\n",
              "      <td>0</td>\n",
              "      <td>0</td>\n",
              "      <td>26-02-2015</td>\n",
              "      <td>Single Vehicle Collision</td>\n",
              "      <td>Rear Collision</td>\n",
              "      <td>Major Damage</td>\n",
              "      <td>Other</td>\n",
              "      <td>NY</td>\n",
              "      <td>Arlington</td>\n",
              "      <td>6128 Elm Lane</td>\n",
              "      <td>2</td>\n",
              "      <td>1</td>\n",
              "      <td>?</td>\n",
              "      <td>0</td>\n",
              "      <td>1</td>\n",
              "      <td>YES</td>\n",
              "      <td>46980</td>\n",
              "      <td>5220</td>\n",
              "      <td>5220</td>\n",
              "      <td>36540</td>\n",
              "      <td>Audi</td>\n",
              "      <td>A5</td>\n",
              "      <td>1998</td>\n",
              "      <td>N</td>\n",
              "    </tr>\n",
              "    <tr>\n",
              "      <th>999</th>\n",
              "      <td>456</td>\n",
              "      <td>60</td>\n",
              "      <td>556080</td>\n",
              "      <td>11-11-1996</td>\n",
              "      <td>OH</td>\n",
              "      <td>250/500</td>\n",
              "      <td>1000</td>\n",
              "      <td>766.19</td>\n",
              "      <td>0</td>\n",
              "      <td>612260</td>\n",
              "      <td>FEMALE</td>\n",
              "      <td>Associate</td>\n",
              "      <td>sales</td>\n",
              "      <td>kayaking</td>\n",
              "      <td>husband</td>\n",
              "      <td>0</td>\n",
              "      <td>0</td>\n",
              "      <td>26-02-2015</td>\n",
              "      <td>Parked Car</td>\n",
              "      <td>?</td>\n",
              "      <td>Minor Damage</td>\n",
              "      <td>Police</td>\n",
              "      <td>WV</td>\n",
              "      <td>Columbus</td>\n",
              "      <td>1416 Cherokee Ridge</td>\n",
              "      <td>6</td>\n",
              "      <td>1</td>\n",
              "      <td>?</td>\n",
              "      <td>0</td>\n",
              "      <td>3</td>\n",
              "      <td>?</td>\n",
              "      <td>5060</td>\n",
              "      <td>460</td>\n",
              "      <td>920</td>\n",
              "      <td>3680</td>\n",
              "      <td>Mercedes</td>\n",
              "      <td>E400</td>\n",
              "      <td>2007</td>\n",
              "      <td>N</td>\n",
              "    </tr>\n",
              "  </tbody>\n",
              "</table>\n",
              "<p>1000 rows × 39 columns</p>\n",
              "</div>"
            ],
            "text/plain": [
              "     months_as_customer  age  ...  auto_year fraud_reported\n",
              "0                   328   48  ...       2004              Y\n",
              "1                   228   42  ...       2007              Y\n",
              "2                   134   29  ...       2007              N\n",
              "3                   256   41  ...       2014              Y\n",
              "4                   228   44  ...       2009              N\n",
              "..                  ...  ...  ...        ...            ...\n",
              "995                   3   38  ...       2006              N\n",
              "996                 285   41  ...       2015              N\n",
              "997                 130   34  ...       1996              N\n",
              "998                 458   62  ...       1998              N\n",
              "999                 456   60  ...       2007              N\n",
              "\n",
              "[1000 rows x 39 columns]"
            ]
          },
          "metadata": {
            "tags": []
          },
          "execution_count": 745
        }
      ]
    },
    {
      "cell_type": "markdown",
      "metadata": {
        "id": "hLjQz6WF1gcP"
      },
      "source": [
        "## **Perform EDA on the Dataset**"
      ]
    },
    {
      "cell_type": "markdown",
      "metadata": {
        "id": "ubW0dXrPZtkL"
      },
      "source": [
        "We performed EDA on the dataset to summarize the main characteristics of the dataset and find interesting patterns."
      ]
    },
    {
      "cell_type": "code",
      "metadata": {
        "colab": {
          "base_uri": "https://localhost:8080/",
          "height": 282
        },
        "id": "FxtD30QK1jlw",
        "outputId": "b7df3333-df96-4fc0-a2e2-a03093924681"
      },
      "source": [
        "#Display a sample of the dataset\n",
        "df.head()"
      ],
      "execution_count": null,
      "outputs": [
        {
          "output_type": "execute_result",
          "data": {
            "text/html": [
              "<div>\n",
              "<style scoped>\n",
              "    .dataframe tbody tr th:only-of-type {\n",
              "        vertical-align: middle;\n",
              "    }\n",
              "\n",
              "    .dataframe tbody tr th {\n",
              "        vertical-align: top;\n",
              "    }\n",
              "\n",
              "    .dataframe thead th {\n",
              "        text-align: right;\n",
              "    }\n",
              "</style>\n",
              "<table border=\"1\" class=\"dataframe\">\n",
              "  <thead>\n",
              "    <tr style=\"text-align: right;\">\n",
              "      <th></th>\n",
              "      <th>months_as_customer</th>\n",
              "      <th>age</th>\n",
              "      <th>policy_number</th>\n",
              "      <th>policy_bind_date</th>\n",
              "      <th>policy_state</th>\n",
              "      <th>policy_csl</th>\n",
              "      <th>policy_deductable</th>\n",
              "      <th>policy_annual_premium</th>\n",
              "      <th>umbrella_limit</th>\n",
              "      <th>insured_zip</th>\n",
              "      <th>insured_sex</th>\n",
              "      <th>insured_education_level</th>\n",
              "      <th>insured_occupation</th>\n",
              "      <th>insured_hobbies</th>\n",
              "      <th>insured_relationship</th>\n",
              "      <th>capital-gains</th>\n",
              "      <th>capital-loss</th>\n",
              "      <th>incident_date</th>\n",
              "      <th>incident_type</th>\n",
              "      <th>collision_type</th>\n",
              "      <th>incident_severity</th>\n",
              "      <th>authorities_contacted</th>\n",
              "      <th>incident_state</th>\n",
              "      <th>incident_city</th>\n",
              "      <th>incident_location</th>\n",
              "      <th>incident_hour_of_the_day</th>\n",
              "      <th>number_of_vehicles_involved</th>\n",
              "      <th>property_damage</th>\n",
              "      <th>bodily_injuries</th>\n",
              "      <th>witnesses</th>\n",
              "      <th>police_report_available</th>\n",
              "      <th>total_claim_amount</th>\n",
              "      <th>injury_claim</th>\n",
              "      <th>property_claim</th>\n",
              "      <th>vehicle_claim</th>\n",
              "      <th>auto_make</th>\n",
              "      <th>auto_model</th>\n",
              "      <th>auto_year</th>\n",
              "      <th>fraud_reported</th>\n",
              "    </tr>\n",
              "  </thead>\n",
              "  <tbody>\n",
              "    <tr>\n",
              "      <th>0</th>\n",
              "      <td>328</td>\n",
              "      <td>48</td>\n",
              "      <td>521585</td>\n",
              "      <td>17-10-2014</td>\n",
              "      <td>OH</td>\n",
              "      <td>250/500</td>\n",
              "      <td>1000</td>\n",
              "      <td>1406.91</td>\n",
              "      <td>0</td>\n",
              "      <td>466132</td>\n",
              "      <td>MALE</td>\n",
              "      <td>MD</td>\n",
              "      <td>craft-repair</td>\n",
              "      <td>sleeping</td>\n",
              "      <td>husband</td>\n",
              "      <td>53300</td>\n",
              "      <td>0</td>\n",
              "      <td>25-01-2015</td>\n",
              "      <td>Single Vehicle Collision</td>\n",
              "      <td>Side Collision</td>\n",
              "      <td>Major Damage</td>\n",
              "      <td>Police</td>\n",
              "      <td>SC</td>\n",
              "      <td>Columbus</td>\n",
              "      <td>9935 4th Drive</td>\n",
              "      <td>5</td>\n",
              "      <td>1</td>\n",
              "      <td>YES</td>\n",
              "      <td>1</td>\n",
              "      <td>2</td>\n",
              "      <td>YES</td>\n",
              "      <td>71610</td>\n",
              "      <td>6510</td>\n",
              "      <td>13020</td>\n",
              "      <td>52080</td>\n",
              "      <td>Saab</td>\n",
              "      <td>92x</td>\n",
              "      <td>2004</td>\n",
              "      <td>Y</td>\n",
              "    </tr>\n",
              "    <tr>\n",
              "      <th>1</th>\n",
              "      <td>228</td>\n",
              "      <td>42</td>\n",
              "      <td>342868</td>\n",
              "      <td>27-06-2006</td>\n",
              "      <td>IN</td>\n",
              "      <td>250/500</td>\n",
              "      <td>2000</td>\n",
              "      <td>1197.22</td>\n",
              "      <td>5000000</td>\n",
              "      <td>468176</td>\n",
              "      <td>MALE</td>\n",
              "      <td>MD</td>\n",
              "      <td>machine-op-inspct</td>\n",
              "      <td>reading</td>\n",
              "      <td>other-relative</td>\n",
              "      <td>0</td>\n",
              "      <td>0</td>\n",
              "      <td>21-01-2015</td>\n",
              "      <td>Vehicle Theft</td>\n",
              "      <td>?</td>\n",
              "      <td>Minor Damage</td>\n",
              "      <td>Police</td>\n",
              "      <td>VA</td>\n",
              "      <td>Riverwood</td>\n",
              "      <td>6608 MLK Hwy</td>\n",
              "      <td>8</td>\n",
              "      <td>1</td>\n",
              "      <td>?</td>\n",
              "      <td>0</td>\n",
              "      <td>0</td>\n",
              "      <td>?</td>\n",
              "      <td>5070</td>\n",
              "      <td>780</td>\n",
              "      <td>780</td>\n",
              "      <td>3510</td>\n",
              "      <td>Mercedes</td>\n",
              "      <td>E400</td>\n",
              "      <td>2007</td>\n",
              "      <td>Y</td>\n",
              "    </tr>\n",
              "    <tr>\n",
              "      <th>2</th>\n",
              "      <td>134</td>\n",
              "      <td>29</td>\n",
              "      <td>687698</td>\n",
              "      <td>06-09-2000</td>\n",
              "      <td>OH</td>\n",
              "      <td>100/300</td>\n",
              "      <td>2000</td>\n",
              "      <td>1413.14</td>\n",
              "      <td>5000000</td>\n",
              "      <td>430632</td>\n",
              "      <td>FEMALE</td>\n",
              "      <td>PhD</td>\n",
              "      <td>sales</td>\n",
              "      <td>board-games</td>\n",
              "      <td>own-child</td>\n",
              "      <td>35100</td>\n",
              "      <td>0</td>\n",
              "      <td>22-02-2015</td>\n",
              "      <td>Multi-vehicle Collision</td>\n",
              "      <td>Rear Collision</td>\n",
              "      <td>Minor Damage</td>\n",
              "      <td>Police</td>\n",
              "      <td>NY</td>\n",
              "      <td>Columbus</td>\n",
              "      <td>7121 Francis Lane</td>\n",
              "      <td>7</td>\n",
              "      <td>3</td>\n",
              "      <td>NO</td>\n",
              "      <td>2</td>\n",
              "      <td>3</td>\n",
              "      <td>NO</td>\n",
              "      <td>34650</td>\n",
              "      <td>7700</td>\n",
              "      <td>3850</td>\n",
              "      <td>23100</td>\n",
              "      <td>Dodge</td>\n",
              "      <td>RAM</td>\n",
              "      <td>2007</td>\n",
              "      <td>N</td>\n",
              "    </tr>\n",
              "    <tr>\n",
              "      <th>3</th>\n",
              "      <td>256</td>\n",
              "      <td>41</td>\n",
              "      <td>227811</td>\n",
              "      <td>25-05-1990</td>\n",
              "      <td>IL</td>\n",
              "      <td>250/500</td>\n",
              "      <td>2000</td>\n",
              "      <td>1415.74</td>\n",
              "      <td>6000000</td>\n",
              "      <td>608117</td>\n",
              "      <td>FEMALE</td>\n",
              "      <td>PhD</td>\n",
              "      <td>armed-forces</td>\n",
              "      <td>board-games</td>\n",
              "      <td>unmarried</td>\n",
              "      <td>48900</td>\n",
              "      <td>-62400</td>\n",
              "      <td>10-01-2015</td>\n",
              "      <td>Single Vehicle Collision</td>\n",
              "      <td>Front Collision</td>\n",
              "      <td>Major Damage</td>\n",
              "      <td>Police</td>\n",
              "      <td>OH</td>\n",
              "      <td>Arlington</td>\n",
              "      <td>6956 Maple Drive</td>\n",
              "      <td>5</td>\n",
              "      <td>1</td>\n",
              "      <td>?</td>\n",
              "      <td>1</td>\n",
              "      <td>2</td>\n",
              "      <td>NO</td>\n",
              "      <td>63400</td>\n",
              "      <td>6340</td>\n",
              "      <td>6340</td>\n",
              "      <td>50720</td>\n",
              "      <td>Chevrolet</td>\n",
              "      <td>Tahoe</td>\n",
              "      <td>2014</td>\n",
              "      <td>Y</td>\n",
              "    </tr>\n",
              "    <tr>\n",
              "      <th>4</th>\n",
              "      <td>228</td>\n",
              "      <td>44</td>\n",
              "      <td>367455</td>\n",
              "      <td>06-06-2014</td>\n",
              "      <td>IL</td>\n",
              "      <td>500/1000</td>\n",
              "      <td>1000</td>\n",
              "      <td>1583.91</td>\n",
              "      <td>6000000</td>\n",
              "      <td>610706</td>\n",
              "      <td>MALE</td>\n",
              "      <td>Associate</td>\n",
              "      <td>sales</td>\n",
              "      <td>board-games</td>\n",
              "      <td>unmarried</td>\n",
              "      <td>66000</td>\n",
              "      <td>-46000</td>\n",
              "      <td>17-02-2015</td>\n",
              "      <td>Vehicle Theft</td>\n",
              "      <td>?</td>\n",
              "      <td>Minor Damage</td>\n",
              "      <td>None</td>\n",
              "      <td>NY</td>\n",
              "      <td>Arlington</td>\n",
              "      <td>3041 3rd Ave</td>\n",
              "      <td>20</td>\n",
              "      <td>1</td>\n",
              "      <td>NO</td>\n",
              "      <td>0</td>\n",
              "      <td>1</td>\n",
              "      <td>NO</td>\n",
              "      <td>6500</td>\n",
              "      <td>1300</td>\n",
              "      <td>650</td>\n",
              "      <td>4550</td>\n",
              "      <td>Accura</td>\n",
              "      <td>RSX</td>\n",
              "      <td>2009</td>\n",
              "      <td>N</td>\n",
              "    </tr>\n",
              "  </tbody>\n",
              "</table>\n",
              "</div>"
            ],
            "text/plain": [
              "   months_as_customer  age  policy_number  ... auto_model auto_year fraud_reported\n",
              "0                 328   48         521585  ...        92x      2004              Y\n",
              "1                 228   42         342868  ...       E400      2007              Y\n",
              "2                 134   29         687698  ...        RAM      2007              N\n",
              "3                 256   41         227811  ...      Tahoe      2014              Y\n",
              "4                 228   44         367455  ...        RSX      2009              N\n",
              "\n",
              "[5 rows x 39 columns]"
            ]
          },
          "metadata": {
            "tags": []
          },
          "execution_count": 746
        }
      ]
    },
    {
      "cell_type": "code",
      "metadata": {
        "colab": {
          "base_uri": "https://localhost:8080/"
        },
        "id": "xQnBQfI-1owh",
        "outputId": "054a2447-b488-429d-c93d-0eeaa4c8542d"
      },
      "source": [
        "#Display the rows and column count\n",
        "df.shape"
      ],
      "execution_count": null,
      "outputs": [
        {
          "output_type": "execute_result",
          "data": {
            "text/plain": [
              "(1000, 39)"
            ]
          },
          "metadata": {
            "tags": []
          },
          "execution_count": 747
        }
      ]
    },
    {
      "cell_type": "code",
      "metadata": {
        "colab": {
          "base_uri": "https://localhost:8080/"
        },
        "id": "3-hloXe_1xRH",
        "outputId": "b828664b-ba78-4d00-d759-c4cf3b5ca9f6"
      },
      "source": [
        "#Display the columns of the dataset\n",
        "df.columns"
      ],
      "execution_count": null,
      "outputs": [
        {
          "output_type": "execute_result",
          "data": {
            "text/plain": [
              "Index(['months_as_customer', 'age', 'policy_number', 'policy_bind_date',\n",
              "       'policy_state', 'policy_csl', 'policy_deductable',\n",
              "       'policy_annual_premium', 'umbrella_limit', 'insured_zip', 'insured_sex',\n",
              "       'insured_education_level', 'insured_occupation', 'insured_hobbies',\n",
              "       'insured_relationship', 'capital-gains', 'capital-loss',\n",
              "       'incident_date', 'incident_type', 'collision_type', 'incident_severity',\n",
              "       'authorities_contacted', 'incident_state', 'incident_city',\n",
              "       'incident_location', 'incident_hour_of_the_day',\n",
              "       'number_of_vehicles_involved', 'property_damage', 'bodily_injuries',\n",
              "       'witnesses', 'police_report_available', 'total_claim_amount',\n",
              "       'injury_claim', 'property_claim', 'vehicle_claim', 'auto_make',\n",
              "       'auto_model', 'auto_year', 'fraud_reported'],\n",
              "      dtype='object')"
            ]
          },
          "metadata": {
            "tags": []
          },
          "execution_count": 748
        }
      ]
    },
    {
      "cell_type": "markdown",
      "metadata": {
        "id": "qnAcarC3tH9X"
      },
      "source": [
        "## **The columns in our dataset are** <br>\n",
        "\n",
        "\n",
        "1. months_as_customer <br>\n",
        "2.  age <br>\n",
        "3.  policy_number <br>\n",
        "4.  policy_bind_date <br>\n",
        "5.  policy_state <br>\n",
        "6.  policy_csl <br>\n",
        "7.  policy_annual_premium <br>\n",
        "8.  umbrella_limit <br>\n",
        "9.  insured_zip <br>\n",
        "10. insured_sex <br>\n",
        "11. insured_education_level <br>\n",
        "12. insured_occupation <br>\n",
        "13. insured_hobbies <br>\n",
        "14. insured_relationship <br>\n",
        "16. capital-gains <br>\n",
        "17. capital-loss <br>\n",
        "18. incident_date <br>\n",
        "19. incident_type <br>\n",
        "20. collision_type <br>\n",
        "21. incident_severity <br>\n",
        "22. authorities_contacted <br>\n",
        "23. incident_state <br>\n",
        "24. incident_city <br>\n",
        "25. incident_location <br>\n",
        "26. incident_hour_of_the_day <br>\n",
        "27. number_of_vehicles_involved <br>\n",
        "28. property_damage <br>\n",
        "29. bodily_injuries <br>\n",
        "30. witnesses <br>\n",
        "31. police_report_available <br>\n",
        "32. total_claim_amount <br>\n",
        "33. injury_claim <br>\n",
        "34. property_claim <br>\n",
        "35. vehicle_claim <br>\n",
        "36. auto_make <br>\n",
        "37. auto_model <br>\n",
        "38. auto_year <br>\n",
        "39. fraud_reported<br>\n",
        " "
      ]
    },
    {
      "cell_type": "code",
      "metadata": {
        "colab": {
          "base_uri": "https://localhost:8080/"
        },
        "id": "1drhlrHub7Co",
        "outputId": "968d916a-5fed-4f2d-d64c-94540f5079a7"
      },
      "source": [
        "#Fetching the data types of the columns \n",
        "df.info()"
      ],
      "execution_count": null,
      "outputs": [
        {
          "output_type": "stream",
          "text": [
            "<class 'pandas.core.frame.DataFrame'>\n",
            "RangeIndex: 1000 entries, 0 to 999\n",
            "Data columns (total 39 columns):\n",
            " #   Column                       Non-Null Count  Dtype  \n",
            "---  ------                       --------------  -----  \n",
            " 0   months_as_customer           1000 non-null   int64  \n",
            " 1   age                          1000 non-null   int64  \n",
            " 2   policy_number                1000 non-null   int64  \n",
            " 3   policy_bind_date             1000 non-null   object \n",
            " 4   policy_state                 1000 non-null   object \n",
            " 5   policy_csl                   1000 non-null   object \n",
            " 6   policy_deductable            1000 non-null   int64  \n",
            " 7   policy_annual_premium        1000 non-null   float64\n",
            " 8   umbrella_limit               1000 non-null   int64  \n",
            " 9   insured_zip                  1000 non-null   int64  \n",
            " 10  insured_sex                  1000 non-null   object \n",
            " 11  insured_education_level      1000 non-null   object \n",
            " 12  insured_occupation           1000 non-null   object \n",
            " 13  insured_hobbies              1000 non-null   object \n",
            " 14  insured_relationship         1000 non-null   object \n",
            " 15  capital-gains                1000 non-null   int64  \n",
            " 16  capital-loss                 1000 non-null   int64  \n",
            " 17  incident_date                1000 non-null   object \n",
            " 18  incident_type                1000 non-null   object \n",
            " 19  collision_type               1000 non-null   object \n",
            " 20  incident_severity            1000 non-null   object \n",
            " 21  authorities_contacted        1000 non-null   object \n",
            " 22  incident_state               1000 non-null   object \n",
            " 23  incident_city                1000 non-null   object \n",
            " 24  incident_location            1000 non-null   object \n",
            " 25  incident_hour_of_the_day     1000 non-null   int64  \n",
            " 26  number_of_vehicles_involved  1000 non-null   int64  \n",
            " 27  property_damage              1000 non-null   object \n",
            " 28  bodily_injuries              1000 non-null   int64  \n",
            " 29  witnesses                    1000 non-null   int64  \n",
            " 30  police_report_available      1000 non-null   object \n",
            " 31  total_claim_amount           1000 non-null   int64  \n",
            " 32  injury_claim                 1000 non-null   int64  \n",
            " 33  property_claim               1000 non-null   int64  \n",
            " 34  vehicle_claim                1000 non-null   int64  \n",
            " 35  auto_make                    1000 non-null   object \n",
            " 36  auto_model                   1000 non-null   object \n",
            " 37  auto_year                    1000 non-null   int64  \n",
            " 38  fraud_reported               1000 non-null   object \n",
            "dtypes: float64(1), int64(17), object(21)\n",
            "memory usage: 304.8+ KB\n"
          ],
          "name": "stdout"
        }
      ]
    },
    {
      "cell_type": "code",
      "metadata": {
        "colab": {
          "base_uri": "https://localhost:8080/",
          "height": 406
        },
        "id": "TgQ6xwumeD0W",
        "outputId": "266742bd-b0a0-4e09-d94c-ae0689d99810"
      },
      "source": [
        "#Plotting a correlation graph to check for correlation among variables.\n",
        "corr = df.corr()\n",
        "sns.heatmap(corr, \n",
        "            xticklabels=corr.columns.values,\n",
        "            yticklabels=corr.columns.values)\n",
        "plt.show()"
      ],
      "execution_count": null,
      "outputs": [
        {
          "output_type": "display_data",
          "data": {
            "image/png": "[encoded data removed]",
            "text/plain": [
              "<Figure size 432x288 with 2 Axes>"
            ]
          },
          "metadata": {
            "tags": [],
            "needs_background": "light"
          }
        }
      ]
    },
    {
      "cell_type": "code",
      "metadata": {
        "colab": {
          "base_uri": "https://localhost:8080/",
          "height": 902
        },
        "id": "RRrLsA3WeoCt",
        "outputId": "1745ed06-3581-407b-add7-1990b04795ca"
      },
      "source": [
        "# Creating graphs to show the distibution of each numeric variable.\n",
        "col=['months_as_customer','age','policy_deductable','policy_annual_premium','capital-gains', 'capital-loss','total_claim_amount','injury_claim', 'property_claim', 'vehicle_claim']\n",
        "\n",
        "plt.figure(figsize=(14,12))\n",
        "k=1\n",
        "for i in col:\n",
        "    plt.subplot(4,4,k)\n",
        "    sns.distplot(df[i])\n",
        "    k=k+1\n",
        "plt.show()"
      ],
      "execution_count": null,
      "outputs": [
        {
          "output_type": "stream",
          "text": [
            "/usr/local/lib/python3.7/dist-packages/seaborn/distributions.py:2557: FutureWarning: `distplot` is a deprecated function and will be removed in a future version. Please adapt your code to use either `displot` (a figure-level function with similar flexibility) or `histplot` (an axes-level function for histograms).\n",
            "  warnings.warn(msg, FutureWarning)\n",
            "/usr/local/lib/python3.7/dist-packages/seaborn/distributions.py:2557: FutureWarning: `distplot` is a deprecated function and will be removed in a future version. Please adapt your code to use either `displot` (a figure-level function with similar flexibility) or `histplot` (an axes-level function for histograms).\n",
            "  warnings.warn(msg, FutureWarning)\n",
            "/usr/local/lib/python3.7/dist-packages/seaborn/distributions.py:2557: FutureWarning: `distplot` is a deprecated function and will be removed in a future version. Please adapt your code to use either `displot` (a figure-level function with similar flexibility) or `histplot` (an axes-level function for histograms).\n",
            "  warnings.warn(msg, FutureWarning)\n",
            "/usr/local/lib/python3.7/dist-packages/seaborn/distributions.py:2557: FutureWarning: `distplot` is a deprecated function and will be removed in a future version. Please adapt your code to use either `displot` (a figure-level function with similar flexibility) or `histplot` (an axes-level function for histograms).\n",
            "  warnings.warn(msg, FutureWarning)\n",
            "/usr/local/lib/python3.7/dist-packages/seaborn/distributions.py:2557: FutureWarning: `distplot` is a deprecated function and will be removed in a future version. Please adapt your code to use either `displot` (a figure-level function with similar flexibility) or `histplot` (an axes-level function for histograms).\n",
            "  warnings.warn(msg, FutureWarning)\n",
            "/usr/local/lib/python3.7/dist-packages/seaborn/distributions.py:2557: FutureWarning: `distplot` is a deprecated function and will be removed in a future version. Please adapt your code to use either `displot` (a figure-level function with similar flexibility) or `histplot` (an axes-level function for histograms).\n",
            "  warnings.warn(msg, FutureWarning)\n",
            "/usr/local/lib/python3.7/dist-packages/seaborn/distributions.py:2557: FutureWarning: `distplot` is a deprecated function and will be removed in a future version. Please adapt your code to use either `displot` (a figure-level function with similar flexibility) or `histplot` (an axes-level function for histograms).\n",
            "  warnings.warn(msg, FutureWarning)\n",
            "/usr/local/lib/python3.7/dist-packages/seaborn/distributions.py:2557: FutureWarning: `distplot` is a deprecated function and will be removed in a future version. Please adapt your code to use either `displot` (a figure-level function with similar flexibility) or `histplot` (an axes-level function for histograms).\n",
            "  warnings.warn(msg, FutureWarning)\n",
            "/usr/local/lib/python3.7/dist-packages/seaborn/distributions.py:2557: FutureWarning: `distplot` is a deprecated function and will be removed in a future version. Please adapt your code to use either `displot` (a figure-level function with similar flexibility) or `histplot` (an axes-level function for histograms).\n",
            "  warnings.warn(msg, FutureWarning)\n",
            "/usr/local/lib/python3.7/dist-packages/seaborn/distributions.py:2557: FutureWarning: `distplot` is a deprecated function and will be removed in a future version. Please adapt your code to use either `displot` (a figure-level function with similar flexibility) or `histplot` (an axes-level function for histograms).\n",
            "  warnings.warn(msg, FutureWarning)\n"
          ],
          "name": "stderr"
        },
        {
          "output_type": "display_data",
          "data": {
            "image/png": "[encoded data removed]",
            "text/plain": [
              "<Figure size 1008x864 with 10 Axes>"
            ]
          },
          "metadata": {
            "tags": [],
            "needs_background": "light"
          }
        }
      ]
    },
    {
      "cell_type": "markdown",
      "metadata": {
        "id": "y05Gu3eEvNPv"
      },
      "source": [
        "The Variables are having a normal distribution and are not skewed!"
      ]
    },
    {
      "cell_type": "code",
      "metadata": {
        "colab": {
          "base_uri": "https://localhost:8080/",
          "height": 297
        },
        "id": "6yys9z5FgZ9S",
        "outputId": "0d36de14-0936-42bc-cd08-98cf50a64e78"
      },
      "source": [
        "#Creating histogram to check the state with maximum frauds\n",
        "sns.countplot(x=df['fraud_reported'],hue=df['policy_state'],data=df,palette = \"Set1\")"
      ],
      "execution_count": null,
      "outputs": [
        {
          "output_type": "execute_result",
          "data": {
            "text/plain": [
              "<matplotlib.axes._subplots.AxesSubplot at 0x7f59b4e0f4d0>"
            ]
          },
          "metadata": {
            "tags": []
          },
          "execution_count": 752
        },
        {
          "output_type": "display_data",
          "data": {
            "image/png": "[encoded data removed]",
            "text/plain": [
              "<Figure size 432x288 with 1 Axes>"
            ]
          },
          "metadata": {
            "tags": [],
            "needs_background": "light"
          }
        }
      ]
    },
    {
      "cell_type": "markdown",
      "metadata": {
        "id": "koq_WYxdvZbp"
      },
      "source": [
        "The histogram shows that the state Ohio has a maximum fraud rate but also has the lowest fraud count. To understand the relation further among the variables, we created different graphs."
      ]
    },
    {
      "cell_type": "code",
      "metadata": {
        "colab": {
          "base_uri": "https://localhost:8080/",
          "height": 297
        },
        "id": "sfUK4SdThQze",
        "outputId": "634a283b-5964-4c1b-ebe7-d53050c04b2b"
      },
      "source": [
        "##Creating histogram to check the gender commiting maximum frauds\n",
        "sns.countplot(x=df['fraud_reported'],hue='insured_sex',data=df)"
      ],
      "execution_count": null,
      "outputs": [
        {
          "output_type": "execute_result",
          "data": {
            "text/plain": [
              "<matplotlib.axes._subplots.AxesSubplot at 0x7f59b16e1090>"
            ]
          },
          "metadata": {
            "tags": []
          },
          "execution_count": 753
        },
        {
          "output_type": "display_data",
          "data": {
            "image/png": "[encoded data removed]",
            "text/plain": [
              "<Figure size 432x288 with 1 Axes>"
            ]
          },
          "metadata": {
            "tags": [],
            "needs_background": "light"
          }
        }
      ]
    },
    {
      "cell_type": "markdown",
      "metadata": {
        "id": "KeVVDGeBvnVR"
      },
      "source": [
        "The histogram above shows that fraudulent claims have been raised more by the females."
      ]
    },
    {
      "cell_type": "code",
      "metadata": {
        "colab": {
          "base_uri": "https://localhost:8080/"
        },
        "id": "wIGetqk111cq",
        "outputId": "487b2c48-d645-4c4d-a275-42a0a1bced16"
      },
      "source": [
        "#Viewing the datatypes of each variable\n",
        "df.dtypes"
      ],
      "execution_count": null,
      "outputs": [
        {
          "output_type": "execute_result",
          "data": {
            "text/plain": [
              "months_as_customer               int64\n",
              "age                              int64\n",
              "policy_number                    int64\n",
              "policy_bind_date                object\n",
              "policy_state                    object\n",
              "policy_csl                      object\n",
              "policy_deductable                int64\n",
              "policy_annual_premium          float64\n",
              "umbrella_limit                   int64\n",
              "insured_zip                      int64\n",
              "insured_sex                     object\n",
              "insured_education_level         object\n",
              "insured_occupation              object\n",
              "insured_hobbies                 object\n",
              "insured_relationship            object\n",
              "capital-gains                    int64\n",
              "capital-loss                     int64\n",
              "incident_date                   object\n",
              "incident_type                   object\n",
              "collision_type                  object\n",
              "incident_severity               object\n",
              "authorities_contacted           object\n",
              "incident_state                  object\n",
              "incident_city                   object\n",
              "incident_location               object\n",
              "incident_hour_of_the_day         int64\n",
              "number_of_vehicles_involved      int64\n",
              "property_damage                 object\n",
              "bodily_injuries                  int64\n",
              "witnesses                        int64\n",
              "police_report_available         object\n",
              "total_claim_amount               int64\n",
              "injury_claim                     int64\n",
              "property_claim                   int64\n",
              "vehicle_claim                    int64\n",
              "auto_make                       object\n",
              "auto_model                      object\n",
              "auto_year                        int64\n",
              "fraud_reported                  object\n",
              "dtype: object"
            ]
          },
          "metadata": {
            "tags": []
          },
          "execution_count": 754
        }
      ]
    },
    {
      "cell_type": "markdown",
      "metadata": {
        "id": "vsBZpkoHwvZy"
      },
      "source": [
        "## **Removing columns with missing values and values which do not contribute towards our prediction**"
      ]
    },
    {
      "cell_type": "markdown",
      "metadata": {
        "id": "rvtRvriDa-w2"
      },
      "source": [
        "We have removed the below variables as they do not contribute towards the prediction of the target.\n",
        "These variables do not have a significant impact on prediction.\n"
      ]
    },
    {
      "cell_type": "code",
      "metadata": {
        "id": "Z3Ah0nFG-uai"
      },
      "source": [
        "df.drop(['policy_number', #Drop policy_number column\n",
        "         'policy_bind_date', #Drop policy_bind_date column\n",
        "         'policy_csl', #Drop policy_csl column\n",
        "         'incident_date', #Drop incident_date column\n",
        "         'insured_zip', #Drop insured_zip column\n",
        "         'collision_type', #Drop collision_type column\n",
        "         'incident_location', #Drop incident_location column\n",
        "         'property_damage', #Drop property_damage column\n",
        "         'auto_make',#Drop auto_make column\n",
        "         'auto_model',#Drop auto_model column\n",
        "         'auto_year',#Drop auto_year column\n",
        "         'police_report_available'],#Drop police_report_available column\n",
        "         axis=1, inplace=True) "
      ],
      "execution_count": null,
      "outputs": []
    },
    {
      "cell_type": "code",
      "metadata": {
        "colab": {
          "base_uri": "https://localhost:8080/",
          "height": 870
        },
        "id": "vnd990_TdRHf",
        "outputId": "3b509f81-6c00-4b10-d3c5-f0e452f1ad12"
      },
      "source": [
        "# Viewing the dataset after removing the variables.\n",
        "print(df.info())\n",
        "df.head()"
      ],
      "execution_count": null,
      "outputs": [
        {
          "output_type": "stream",
          "text": [
            "<class 'pandas.core.frame.DataFrame'>\n",
            "RangeIndex: 1000 entries, 0 to 999\n",
            "Data columns (total 27 columns):\n",
            " #   Column                       Non-Null Count  Dtype  \n",
            "---  ------                       --------------  -----  \n",
            " 0   months_as_customer           1000 non-null   int64  \n",
            " 1   age                          1000 non-null   int64  \n",
            " 2   policy_state                 1000 non-null   object \n",
            " 3   policy_deductable            1000 non-null   int64  \n",
            " 4   policy_annual_premium        1000 non-null   float64\n",
            " 5   umbrella_limit               1000 non-null   int64  \n",
            " 6   insured_sex                  1000 non-null   object \n",
            " 7   insured_education_level      1000 non-null   object \n",
            " 8   insured_occupation           1000 non-null   object \n",
            " 9   insured_hobbies              1000 non-null   object \n",
            " 10  insured_relationship         1000 non-null   object \n",
            " 11  capital-gains                1000 non-null   int64  \n",
            " 12  capital-loss                 1000 non-null   int64  \n",
            " 13  incident_type                1000 non-null   object \n",
            " 14  incident_severity            1000 non-null   object \n",
            " 15  authorities_contacted        1000 non-null   object \n",
            " 16  incident_state               1000 non-null   object \n",
            " 17  incident_city                1000 non-null   object \n",
            " 18  incident_hour_of_the_day     1000 non-null   int64  \n",
            " 19  number_of_vehicles_involved  1000 non-null   int64  \n",
            " 20  bodily_injuries              1000 non-null   int64  \n",
            " 21  witnesses                    1000 non-null   int64  \n",
            " 22  total_claim_amount           1000 non-null   int64  \n",
            " 23  injury_claim                 1000 non-null   int64  \n",
            " 24  property_claim               1000 non-null   int64  \n",
            " 25  vehicle_claim                1000 non-null   int64  \n",
            " 26  fraud_reported               1000 non-null   object \n",
            "dtypes: float64(1), int64(14), object(12)\n",
            "memory usage: 211.1+ KB\n",
            "None\n"
          ],
          "name": "stdout"
        },
        {
          "output_type": "execute_result",
          "data": {
            "text/html": [
              "<div>\n",
              "<style scoped>\n",
              "    .dataframe tbody tr th:only-of-type {\n",
              "        vertical-align: middle;\n",
              "    }\n",
              "\n",
              "    .dataframe tbody tr th {\n",
              "        vertical-align: top;\n",
              "    }\n",
              "\n",
              "    .dataframe thead th {\n",
              "        text-align: right;\n",
              "    }\n",
              "</style>\n",
              "<table border=\"1\" class=\"dataframe\">\n",
              "  <thead>\n",
              "    <tr style=\"text-align: right;\">\n",
              "      <th></th>\n",
              "      <th>months_as_customer</th>\n",
              "      <th>age</th>\n",
              "      <th>policy_state</th>\n",
              "      <th>policy_deductable</th>\n",
              "      <th>policy_annual_premium</th>\n",
              "      <th>umbrella_limit</th>\n",
              "      <th>insured_sex</th>\n",
              "      <th>insured_education_level</th>\n",
              "      <th>insured_occupation</th>\n",
              "      <th>insured_hobbies</th>\n",
              "      <th>insured_relationship</th>\n",
              "      <th>capital-gains</th>\n",
              "      <th>capital-loss</th>\n",
              "      <th>incident_type</th>\n",
              "      <th>incident_severity</th>\n",
              "      <th>authorities_contacted</th>\n",
              "      <th>incident_state</th>\n",
              "      <th>incident_city</th>\n",
              "      <th>incident_hour_of_the_day</th>\n",
              "      <th>number_of_vehicles_involved</th>\n",
              "      <th>bodily_injuries</th>\n",
              "      <th>witnesses</th>\n",
              "      <th>total_claim_amount</th>\n",
              "      <th>injury_claim</th>\n",
              "      <th>property_claim</th>\n",
              "      <th>vehicle_claim</th>\n",
              "      <th>fraud_reported</th>\n",
              "    </tr>\n",
              "  </thead>\n",
              "  <tbody>\n",
              "    <tr>\n",
              "      <th>0</th>\n",
              "      <td>328</td>\n",
              "      <td>48</td>\n",
              "      <td>OH</td>\n",
              "      <td>1000</td>\n",
              "      <td>1406.91</td>\n",
              "      <td>0</td>\n",
              "      <td>MALE</td>\n",
              "      <td>MD</td>\n",
              "      <td>craft-repair</td>\n",
              "      <td>sleeping</td>\n",
              "      <td>husband</td>\n",
              "      <td>53300</td>\n",
              "      <td>0</td>\n",
              "      <td>Single Vehicle Collision</td>\n",
              "      <td>Major Damage</td>\n",
              "      <td>Police</td>\n",
              "      <td>SC</td>\n",
              "      <td>Columbus</td>\n",
              "      <td>5</td>\n",
              "      <td>1</td>\n",
              "      <td>1</td>\n",
              "      <td>2</td>\n",
              "      <td>71610</td>\n",
              "      <td>6510</td>\n",
              "      <td>13020</td>\n",
              "      <td>52080</td>\n",
              "      <td>Y</td>\n",
              "    </tr>\n",
              "    <tr>\n",
              "      <th>1</th>\n",
              "      <td>228</td>\n",
              "      <td>42</td>\n",
              "      <td>IN</td>\n",
              "      <td>2000</td>\n",
              "      <td>1197.22</td>\n",
              "      <td>5000000</td>\n",
              "      <td>MALE</td>\n",
              "      <td>MD</td>\n",
              "      <td>machine-op-inspct</td>\n",
              "      <td>reading</td>\n",
              "      <td>other-relative</td>\n",
              "      <td>0</td>\n",
              "      <td>0</td>\n",
              "      <td>Vehicle Theft</td>\n",
              "      <td>Minor Damage</td>\n",
              "      <td>Police</td>\n",
              "      <td>VA</td>\n",
              "      <td>Riverwood</td>\n",
              "      <td>8</td>\n",
              "      <td>1</td>\n",
              "      <td>0</td>\n",
              "      <td>0</td>\n",
              "      <td>5070</td>\n",
              "      <td>780</td>\n",
              "      <td>780</td>\n",
              "      <td>3510</td>\n",
              "      <td>Y</td>\n",
              "    </tr>\n",
              "    <tr>\n",
              "      <th>2</th>\n",
              "      <td>134</td>\n",
              "      <td>29</td>\n",
              "      <td>OH</td>\n",
              "      <td>2000</td>\n",
              "      <td>1413.14</td>\n",
              "      <td>5000000</td>\n",
              "      <td>FEMALE</td>\n",
              "      <td>PhD</td>\n",
              "      <td>sales</td>\n",
              "      <td>board-games</td>\n",
              "      <td>own-child</td>\n",
              "      <td>35100</td>\n",
              "      <td>0</td>\n",
              "      <td>Multi-vehicle Collision</td>\n",
              "      <td>Minor Damage</td>\n",
              "      <td>Police</td>\n",
              "      <td>NY</td>\n",
              "      <td>Columbus</td>\n",
              "      <td>7</td>\n",
              "      <td>3</td>\n",
              "      <td>2</td>\n",
              "      <td>3</td>\n",
              "      <td>34650</td>\n",
              "      <td>7700</td>\n",
              "      <td>3850</td>\n",
              "      <td>23100</td>\n",
              "      <td>N</td>\n",
              "    </tr>\n",
              "    <tr>\n",
              "      <th>3</th>\n",
              "      <td>256</td>\n",
              "      <td>41</td>\n",
              "      <td>IL</td>\n",
              "      <td>2000</td>\n",
              "      <td>1415.74</td>\n",
              "      <td>6000000</td>\n",
              "      <td>FEMALE</td>\n",
              "      <td>PhD</td>\n",
              "      <td>armed-forces</td>\n",
              "      <td>board-games</td>\n",
              "      <td>unmarried</td>\n",
              "      <td>48900</td>\n",
              "      <td>-62400</td>\n",
              "      <td>Single Vehicle Collision</td>\n",
              "      <td>Major Damage</td>\n",
              "      <td>Police</td>\n",
              "      <td>OH</td>\n",
              "      <td>Arlington</td>\n",
              "      <td>5</td>\n",
              "      <td>1</td>\n",
              "      <td>1</td>\n",
              "      <td>2</td>\n",
              "      <td>63400</td>\n",
              "      <td>6340</td>\n",
              "      <td>6340</td>\n",
              "      <td>50720</td>\n",
              "      <td>Y</td>\n",
              "    </tr>\n",
              "    <tr>\n",
              "      <th>4</th>\n",
              "      <td>228</td>\n",
              "      <td>44</td>\n",
              "      <td>IL</td>\n",
              "      <td>1000</td>\n",
              "      <td>1583.91</td>\n",
              "      <td>6000000</td>\n",
              "      <td>MALE</td>\n",
              "      <td>Associate</td>\n",
              "      <td>sales</td>\n",
              "      <td>board-games</td>\n",
              "      <td>unmarried</td>\n",
              "      <td>66000</td>\n",
              "      <td>-46000</td>\n",
              "      <td>Vehicle Theft</td>\n",
              "      <td>Minor Damage</td>\n",
              "      <td>None</td>\n",
              "      <td>NY</td>\n",
              "      <td>Arlington</td>\n",
              "      <td>20</td>\n",
              "      <td>1</td>\n",
              "      <td>0</td>\n",
              "      <td>1</td>\n",
              "      <td>6500</td>\n",
              "      <td>1300</td>\n",
              "      <td>650</td>\n",
              "      <td>4550</td>\n",
              "      <td>N</td>\n",
              "    </tr>\n",
              "  </tbody>\n",
              "</table>\n",
              "</div>"
            ],
            "text/plain": [
              "   months_as_customer  age  ... vehicle_claim  fraud_reported\n",
              "0                 328   48  ...         52080               Y\n",
              "1                 228   42  ...          3510               Y\n",
              "2                 134   29  ...         23100               N\n",
              "3                 256   41  ...         50720               Y\n",
              "4                 228   44  ...          4550               N\n",
              "\n",
              "[5 rows x 27 columns]"
            ]
          },
          "metadata": {
            "tags": []
          },
          "execution_count": 757
        }
      ]
    },
    {
      "cell_type": "markdown",
      "metadata": {
        "id": "tQcd4s1j2Ywq"
      },
      "source": [
        "## **Recoding the columns with categorical data into numeric for modeling the dataset**"
      ]
    },
    {
      "cell_type": "code",
      "metadata": {
        "id": "3WC6GedR-8IB"
      },
      "source": [
        "#Creating dummy variables for multiclass columns \n",
        "df = pd.get_dummies(df, columns = ['policy_state',\n",
        "                                   'insured_education_level',\n",
        "                                   'insured_occupation',\n",
        "                                   'insured_hobbies',\n",
        "                                   'insured_relationship',\n",
        "                                   'incident_type',\n",
        "                                   'incident_severity', \n",
        "                                   'authorities_contacted',\n",
        "                                   'incident_state',\n",
        "                                   'incident_city'])"
      ],
      "execution_count": null,
      "outputs": []
    },
    {
      "cell_type": "code",
      "metadata": {
        "id": "qiIkKq1F2Mce"
      },
      "source": [
        "#Recode the target variable to numeric\n",
        "df['fraud_reported'].replace(('Y', 'N'), (1, 0), inplace=True)"
      ],
      "execution_count": null,
      "outputs": []
    },
    {
      "cell_type": "code",
      "metadata": {
        "id": "u_7k1Z2sRQz3"
      },
      "source": [
        "# recode the gender to numeric\n",
        "df['insured_sex'].replace(('MALE', 'FEMALE'), (0, 1), inplace=True)"
      ],
      "execution_count": null,
      "outputs": []
    },
    {
      "cell_type": "code",
      "metadata": {
        "colab": {
          "base_uri": "https://localhost:8080/"
        },
        "id": "2QkKP_wzdaPk",
        "outputId": "67a802cc-21c4-4d04-ddaa-2dcc4a7bd905"
      },
      "source": [
        "# checking the distribution of target variable\n",
        "df['fraud_reported'].value_counts()"
      ],
      "execution_count": null,
      "outputs": [
        {
          "output_type": "execute_result",
          "data": {
            "text/plain": [
              "0    753\n",
              "1    247\n",
              "Name: fraud_reported, dtype: int64"
            ]
          },
          "metadata": {
            "tags": []
          },
          "execution_count": 762
        }
      ]
    },
    {
      "cell_type": "markdown",
      "metadata": {
        "id": "q0nTOqBVbQO0"
      },
      "source": [
        "# **Modeling** \n"
      ]
    },
    {
      "cell_type": "markdown",
      "metadata": {
        "id": "fi7DmGQdchz7"
      },
      "source": [
        "## **Split Data** <br>\n",
        "Since the model is built on test data, there may be a chance of overfitting  during model evaluation. So we split data into Train and Test datasets\n",
        "The model is built on Train data and evaluated on Test data. "
      ]
    },
    {
      "cell_type": "code",
      "metadata": {
        "id": "GFxgV5Dw2DLy",
        "colab": {
          "base_uri": "https://localhost:8080/"
        },
        "outputId": "b41459c6-1897-4c5a-ed5c-a5fca6c38939"
      },
      "source": [
        "# Specify data into X and Y variables for split\n",
        "\n",
        "Y = df['fraud_reported'] #Storing the target variable in the Y \n",
        "X = df.drop(['fraud_reported'], axis=1) #Storing all the other columns except the target in X.\n",
        "\n",
        "#View the number of rows and columns \n",
        "print(X.shape)\n",
        "print(Y.shape)"
      ],
      "execution_count": null,
      "outputs": [
        {
          "output_type": "stream",
          "text": [
            "(1000, 93)\n",
            "(1000,)\n"
          ],
          "name": "stdout"
        }
      ]
    },
    {
      "cell_type": "code",
      "metadata": {
        "id": "QYzc6xoqbTJB"
      },
      "source": [
        "# convert to numpy arrays\n",
        "X = np.array(X)"
      ],
      "execution_count": null,
      "outputs": []
    },
    {
      "cell_type": "code",
      "metadata": {
        "colab": {
          "base_uri": "https://localhost:8080/"
        },
        "id": "t7hmraru9o4n",
        "outputId": "9da61eba-b0d5-4db1-d80a-c86dc4f6c8dc"
      },
      "source": [
        "# split into X_train and X_test\n",
        "#We are splitting data using a 70/30 ratio, where 70% of data is used for training the model and 30% for testing it.\n",
        "X_train, X_test, y_train, y_test = train_test_split(X, Y, #Split X and Y into 70/30 ratio\n",
        "                                                    test_size=0.3,\n",
        "                                                    random_state=12345)\n",
        "\n",
        "#View the data shap after split\n",
        "print(X_train.shape, X_test.shape, y_train.shape, y_test.shape)"
      ],
      "execution_count": null,
      "outputs": [
        {
          "output_type": "stream",
          "text": [
            "(700, 93) (300, 93) (700,) (300,)\n"
          ],
          "name": "stdout"
        }
      ]
    },
    {
      "cell_type": "code",
      "metadata": {
        "id": "oNPENK7v9368"
      },
      "source": [
        "# use minMax scaler\n",
        "#We use minmax scaler to scale the dataset but still preserve the original distribution.\n",
        "min_max_scaler = MinMaxScaler()\n",
        "X_train = min_max_scaler.fit_transform(X_train)\n",
        "X_test = min_max_scaler.transform(X_test)"
      ],
      "execution_count": null,
      "outputs": []
    },
    {
      "cell_type": "markdown",
      "metadata": {
        "id": "VMaD8A8pJr-K"
      },
      "source": [
        "##**Baseline Model: Logistic Regression**"
      ]
    },
    {
      "cell_type": "code",
      "metadata": {
        "id": "o1c18WdaJ9UQ"
      },
      "source": [
        "#Create a Logistic regression model to use as our baseline\n",
        "\n",
        "model = LogisticRegression() #Creating the Logistic regression model\n",
        "model.fit(X_train,y_train) #Fit the X and Y variables to the model \n",
        "prediction = model.predict(X_test) #Predict model output"
      ],
      "execution_count": null,
      "outputs": []
    },
    {
      "cell_type": "code",
      "metadata": {
        "colab": {
          "base_uri": "https://localhost:8080/"
        },
        "id": "v4cN0cUnKTPR",
        "outputId": "8dd0a74e-9292-4d57-f262-44fcb6bfa4db"
      },
      "source": [
        "#Finding the baseline accuracy\n",
        "accuracy_baseline = accuracy_score(y_test,prediction) \n",
        "print('Accuracy %f' %accuracy_baseline)\n",
        "\n",
        "#Finding the Area Under Curve for our baseline logistic regression model.\n",
        "AUC_baseline = metrics.roc_auc_score(y_test,prediction)\n",
        "print('AUC %f' %AUC_baseline)"
      ],
      "execution_count": null,
      "outputs": [
        {
          "output_type": "stream",
          "text": [
            "Accuracy 0.850000\n",
            "AUC 0.755223\n"
          ],
          "name": "stdout"
        }
      ]
    },
    {
      "cell_type": "code",
      "metadata": {
        "colab": {
          "base_uri": "https://localhost:8080/"
        },
        "id": "FUHWeDxmML5f",
        "outputId": "ea357660-49a2-499e-9b4c-80af9c2f9369"
      },
      "source": [
        "#Viewing the baseline model predictions.\n",
        "preds_baseline= np.round(model.predict(X_test),0)\n",
        "\n",
        "# Creating the confusion matrix\n",
        "confusion_matrix(y_test, preds_baseline) # (actual, predicted)"
      ],
      "execution_count": null,
      "outputs": [
        {
          "output_type": "execute_result",
          "data": {
            "text/plain": [
              "array([[215,  16],\n",
              "       [ 29,  40]])"
            ]
          },
          "metadata": {
            "tags": []
          },
          "execution_count": 770
        }
      ]
    },
    {
      "cell_type": "code",
      "metadata": {
        "colab": {
          "base_uri": "https://localhost:8080/"
        },
        "id": "ShRwu0W6MVPM",
        "outputId": "25821e46-9843-4bb2-b248-b8de222b6331"
      },
      "source": [
        "#View the Classification report for our baseline logistic regression model \n",
        "print(classification_report(y_test, preds_baseline))"
      ],
      "execution_count": null,
      "outputs": [
        {
          "output_type": "stream",
          "text": [
            "              precision    recall  f1-score   support\n",
            "\n",
            "           0       0.88      0.93      0.91       231\n",
            "           1       0.71      0.58      0.64        69\n",
            "\n",
            "    accuracy                           0.85       300\n",
            "   macro avg       0.80      0.76      0.77       300\n",
            "weighted avg       0.84      0.85      0.84       300\n",
            "\n"
          ],
          "name": "stdout"
        }
      ]
    },
    {
      "cell_type": "markdown",
      "metadata": {
        "id": "N7lyogMdfhbx"
      },
      "source": [
        "We now need to create models which will give us a higher accuracy than the baseline."
      ]
    },
    {
      "cell_type": "markdown",
      "metadata": {
        "id": "1Bnp4FnJfoiw"
      },
      "source": [
        "We created 2 models - \n",
        "\n",
        "* Classification model with no callbacks\n",
        "* Classification model with callbacks"
      ]
    },
    {
      "cell_type": "markdown",
      "metadata": {
        "id": "6L0uIjVZBTcf"
      },
      "source": [
        "## **Classification Model - No Callbacks**"
      ]
    },
    {
      "cell_type": "markdown",
      "metadata": {
        "id": "xs3fO9fgCUW0"
      },
      "source": [
        "* We will be using Sequential API to build the model\n",
        "  * Input: 93 (The total number of columns which goes into the model)\n",
        "  * Nodes in Hidden Layer 1: 25 \n",
        "  * Activation Function : tanh\n",
        "  * Nodes in Hidden Layer 2: 10\n",
        "  * Activation Function : tanh\n",
        "  * Nodes in output Layer:1\n",
        "  * Activation Function : Sigmoid\n",
        "  * Loss function: binary_crossentropy. \n",
        "  * Number of epochs = 100\n",
        "  * batch size = 10"
      ]
    },
    {
      "cell_type": "code",
      "metadata": {
        "colab": {
          "base_uri": "https://localhost:8080/"
        },
        "id": "_bEsI1XoBag0",
        "outputId": "bbfdcb74-9367-4b50-b925-182db1191975"
      },
      "source": [
        "# build the model with no callbacks\n",
        "\n",
        "model1 = Sequential() #Using Sequential API for building the Dense Neural Network\n",
        "model1.add(Dense(25, input_shape=(X_train.shape[1],), activation = 'tanh')) #Hidden Layer 1 with 25 hidden nodes and activation function as tanh\n",
        "model1.add(Dropout(0.3))\n",
        "model1.add(Dense(10, activation='tanh')) #Hidden layer 2 for the model with 10 hidden nodes and activation function as tanh\n",
        "model1.add(Dense(1, activation='sigmoid')) #Output layer with 1 node using sigmoid activation function as the sigmoid function converts the output values between 0 and 1\n",
        "model1.summary() #Printing model summary "
      ],
      "execution_count": null,
      "outputs": [
        {
          "output_type": "stream",
          "text": [
            "Model: \"sequential_34\"\n",
            "_________________________________________________________________\n",
            "Layer (type)                 Output Shape              Param #   \n",
            "=================================================================\n",
            "dense_112 (Dense)            (None, 25)                2350      \n",
            "_________________________________________________________________\n",
            "dropout_55 (Dropout)         (None, 25)                0         \n",
            "_________________________________________________________________\n",
            "dense_113 (Dense)            (None, 10)                260       \n",
            "_________________________________________________________________\n",
            "dense_114 (Dense)            (None, 1)                 11        \n",
            "=================================================================\n",
            "Total params: 2,621\n",
            "Trainable params: 2,621\n",
            "Non-trainable params: 0\n",
            "_________________________________________________________________\n"
          ],
          "name": "stdout"
        }
      ]
    },
    {
      "cell_type": "code",
      "metadata": {
        "id": "sau8HtUSB_H1"
      },
      "source": [
        "# Model Compilation\n",
        "model1.compile(optimizer='Adam', #Using Adam as the optimizer function\n",
        "              loss='binary_crossentropy', #We use binary cross entropy as the loss function since it is a binary classification problem\n",
        "              metrics=['accuracy']) #Specifying the accuracy metric of the model"
      ],
      "execution_count": null,
      "outputs": []
    },
    {
      "cell_type": "code",
      "metadata": {
        "colab": {
          "base_uri": "https://localhost:8080/"
        },
        "id": "8wRjGT5kCInO",
        "outputId": "64be08af-ebd9-46f8-9b95-f5ae2f418b69"
      },
      "source": [
        "# Fit the model  \n",
        "history1 = model1.fit(X_train, y_train,\n",
        "                    epochs = 100, #Number of iterations over the dataset \n",
        "                    batch_size = 10, #Number of samples per update \n",
        "                    validation_data=(X_test,y_test),\n",
        "                    shuffle = True, #Shuffle the instances\n",
        "                    verbose = 1)"
      ],
      "execution_count": null,
      "outputs": [
        {
          "output_type": "stream",
          "text": [
            "Epoch 1/100\n",
            "70/70 [==============================] - 1s 5ms/step - loss: 0.6654 - accuracy: 0.5942 - val_loss: 0.5242 - val_accuracy: 0.7700\n",
            "Epoch 2/100\n",
            "70/70 [==============================] - 0s 3ms/step - loss: 0.5629 - accuracy: 0.7318 - val_loss: 0.4919 - val_accuracy: 0.7700\n",
            "Epoch 3/100\n",
            "70/70 [==============================] - 0s 3ms/step - loss: 0.5063 - accuracy: 0.7544 - val_loss: 0.4528 - val_accuracy: 0.7767\n",
            "Epoch 4/100\n",
            "70/70 [==============================] - 0s 3ms/step - loss: 0.4645 - accuracy: 0.7742 - val_loss: 0.4177 - val_accuracy: 0.8000\n",
            "Epoch 5/100\n",
            "70/70 [==============================] - 0s 3ms/step - loss: 0.4268 - accuracy: 0.8338 - val_loss: 0.3879 - val_accuracy: 0.8000\n",
            "Epoch 6/100\n",
            "70/70 [==============================] - 0s 3ms/step - loss: 0.4184 - accuracy: 0.8044 - val_loss: 0.3693 - val_accuracy: 0.8233\n",
            "Epoch 7/100\n",
            "70/70 [==============================] - 0s 3ms/step - loss: 0.3602 - accuracy: 0.8458 - val_loss: 0.3589 - val_accuracy: 0.8300\n",
            "Epoch 8/100\n",
            "70/70 [==============================] - 0s 3ms/step - loss: 0.3502 - accuracy: 0.8418 - val_loss: 0.3531 - val_accuracy: 0.8433\n",
            "Epoch 9/100\n",
            "70/70 [==============================] - 0s 3ms/step - loss: 0.3696 - accuracy: 0.8372 - val_loss: 0.3464 - val_accuracy: 0.8433\n",
            "Epoch 10/100\n",
            "70/70 [==============================] - 0s 3ms/step - loss: 0.3055 - accuracy: 0.8659 - val_loss: 0.3445 - val_accuracy: 0.8733\n",
            "Epoch 11/100\n",
            "70/70 [==============================] - 0s 3ms/step - loss: 0.2965 - accuracy: 0.8808 - val_loss: 0.3448 - val_accuracy: 0.8433\n",
            "Epoch 12/100\n",
            "70/70 [==============================] - 0s 3ms/step - loss: 0.3528 - accuracy: 0.8577 - val_loss: 0.3405 - val_accuracy: 0.8533\n",
            "Epoch 13/100\n",
            "70/70 [==============================] - 0s 3ms/step - loss: 0.3327 - accuracy: 0.8724 - val_loss: 0.3447 - val_accuracy: 0.8733\n",
            "Epoch 14/100\n",
            "70/70 [==============================] - 0s 3ms/step - loss: 0.3111 - accuracy: 0.8658 - val_loss: 0.3435 - val_accuracy: 0.8667\n",
            "Epoch 15/100\n",
            "70/70 [==============================] - 0s 3ms/step - loss: 0.3122 - accuracy: 0.8770 - val_loss: 0.3417 - val_accuracy: 0.8433\n",
            "Epoch 16/100\n",
            "70/70 [==============================] - 0s 3ms/step - loss: 0.3234 - accuracy: 0.8732 - val_loss: 0.3414 - val_accuracy: 0.8367\n",
            "Epoch 17/100\n",
            "70/70 [==============================] - 0s 3ms/step - loss: 0.2716 - accuracy: 0.8773 - val_loss: 0.3418 - val_accuracy: 0.8667\n",
            "Epoch 18/100\n",
            "70/70 [==============================] - 0s 3ms/step - loss: 0.2963 - accuracy: 0.8918 - val_loss: 0.3450 - val_accuracy: 0.8700\n",
            "Epoch 19/100\n",
            "70/70 [==============================] - 0s 3ms/step - loss: 0.3171 - accuracy: 0.8683 - val_loss: 0.3459 - val_accuracy: 0.8367\n",
            "Epoch 20/100\n",
            "70/70 [==============================] - 0s 3ms/step - loss: 0.2873 - accuracy: 0.8781 - val_loss: 0.3463 - val_accuracy: 0.8433\n",
            "Epoch 21/100\n",
            "70/70 [==============================] - 0s 3ms/step - loss: 0.2922 - accuracy: 0.8991 - val_loss: 0.3466 - val_accuracy: 0.8467\n",
            "Epoch 22/100\n",
            "70/70 [==============================] - 0s 3ms/step - loss: 0.2836 - accuracy: 0.8752 - val_loss: 0.3517 - val_accuracy: 0.8700\n",
            "Epoch 23/100\n",
            "70/70 [==============================] - 0s 3ms/step - loss: 0.2708 - accuracy: 0.9009 - val_loss: 0.3527 - val_accuracy: 0.8667\n",
            "Epoch 24/100\n",
            "70/70 [==============================] - 0s 2ms/step - loss: 0.3009 - accuracy: 0.8854 - val_loss: 0.3433 - val_accuracy: 0.8533\n",
            "Epoch 25/100\n",
            "70/70 [==============================] - 0s 2ms/step - loss: 0.2611 - accuracy: 0.8914 - val_loss: 0.3539 - val_accuracy: 0.8733\n",
            "Epoch 26/100\n",
            "70/70 [==============================] - 0s 2ms/step - loss: 0.2627 - accuracy: 0.8870 - val_loss: 0.3584 - val_accuracy: 0.8633\n",
            "Epoch 27/100\n",
            "70/70 [==============================] - 0s 3ms/step - loss: 0.2915 - accuracy: 0.8893 - val_loss: 0.3586 - val_accuracy: 0.8500\n",
            "Epoch 28/100\n",
            "70/70 [==============================] - 0s 3ms/step - loss: 0.2532 - accuracy: 0.9126 - val_loss: 0.3580 - val_accuracy: 0.8567\n",
            "Epoch 29/100\n",
            "70/70 [==============================] - 0s 3ms/step - loss: 0.2578 - accuracy: 0.8977 - val_loss: 0.3538 - val_accuracy: 0.8567\n",
            "Epoch 30/100\n",
            "70/70 [==============================] - 0s 2ms/step - loss: 0.2596 - accuracy: 0.8783 - val_loss: 0.3623 - val_accuracy: 0.8667\n",
            "Epoch 31/100\n",
            "70/70 [==============================] - 0s 2ms/step - loss: 0.2772 - accuracy: 0.8999 - val_loss: 0.3640 - val_accuracy: 0.8600\n",
            "Epoch 32/100\n",
            "70/70 [==============================] - 0s 3ms/step - loss: 0.2771 - accuracy: 0.8911 - val_loss: 0.3540 - val_accuracy: 0.8567\n",
            "Epoch 33/100\n",
            "70/70 [==============================] - 0s 2ms/step - loss: 0.2462 - accuracy: 0.9043 - val_loss: 0.3595 - val_accuracy: 0.8600\n",
            "Epoch 34/100\n",
            "70/70 [==============================] - 0s 3ms/step - loss: 0.2535 - accuracy: 0.9152 - val_loss: 0.3647 - val_accuracy: 0.8433\n",
            "Epoch 35/100\n",
            "70/70 [==============================] - 0s 3ms/step - loss: 0.2616 - accuracy: 0.9198 - val_loss: 0.3675 - val_accuracy: 0.8600\n",
            "Epoch 36/100\n",
            "70/70 [==============================] - 0s 3ms/step - loss: 0.2322 - accuracy: 0.9097 - val_loss: 0.3607 - val_accuracy: 0.8500\n",
            "Epoch 37/100\n",
            "70/70 [==============================] - 0s 2ms/step - loss: 0.2526 - accuracy: 0.9011 - val_loss: 0.3596 - val_accuracy: 0.8500\n",
            "Epoch 38/100\n",
            "70/70 [==============================] - 0s 2ms/step - loss: 0.2758 - accuracy: 0.8835 - val_loss: 0.3606 - val_accuracy: 0.8500\n",
            "Epoch 39/100\n",
            "70/70 [==============================] - 0s 2ms/step - loss: 0.2311 - accuracy: 0.8954 - val_loss: 0.3758 - val_accuracy: 0.8600\n",
            "Epoch 40/100\n",
            "70/70 [==============================] - 0s 3ms/step - loss: 0.2396 - accuracy: 0.9001 - val_loss: 0.3627 - val_accuracy: 0.8467\n",
            "Epoch 41/100\n",
            "70/70 [==============================] - 0s 2ms/step - loss: 0.2661 - accuracy: 0.8857 - val_loss: 0.3663 - val_accuracy: 0.8433\n",
            "Epoch 42/100\n",
            "70/70 [==============================] - 0s 3ms/step - loss: 0.2804 - accuracy: 0.8945 - val_loss: 0.3665 - val_accuracy: 0.8533\n",
            "Epoch 43/100\n",
            "70/70 [==============================] - 0s 2ms/step - loss: 0.2222 - accuracy: 0.9146 - val_loss: 0.3653 - val_accuracy: 0.8567\n",
            "Epoch 44/100\n",
            "70/70 [==============================] - 0s 2ms/step - loss: 0.2810 - accuracy: 0.8669 - val_loss: 0.3652 - val_accuracy: 0.8467\n",
            "Epoch 45/100\n",
            "70/70 [==============================] - 0s 2ms/step - loss: 0.2202 - accuracy: 0.9234 - val_loss: 0.3706 - val_accuracy: 0.8467\n",
            "Epoch 46/100\n",
            "70/70 [==============================] - 0s 2ms/step - loss: 0.2395 - accuracy: 0.9130 - val_loss: 0.3761 - val_accuracy: 0.8500\n",
            "Epoch 47/100\n",
            "70/70 [==============================] - 0s 2ms/step - loss: 0.2158 - accuracy: 0.9188 - val_loss: 0.3788 - val_accuracy: 0.8367\n",
            "Epoch 48/100\n",
            "70/70 [==============================] - 0s 2ms/step - loss: 0.2503 - accuracy: 0.8931 - val_loss: 0.3763 - val_accuracy: 0.8367\n",
            "Epoch 49/100\n",
            "70/70 [==============================] - 0s 2ms/step - loss: 0.2160 - accuracy: 0.9224 - val_loss: 0.3722 - val_accuracy: 0.8467\n",
            "Epoch 50/100\n",
            "70/70 [==============================] - 0s 2ms/step - loss: 0.2384 - accuracy: 0.8887 - val_loss: 0.3761 - val_accuracy: 0.8400\n",
            "Epoch 51/100\n",
            "70/70 [==============================] - 0s 3ms/step - loss: 0.2586 - accuracy: 0.8853 - val_loss: 0.3763 - val_accuracy: 0.8367\n",
            "Epoch 52/100\n",
            "70/70 [==============================] - 0s 2ms/step - loss: 0.2344 - accuracy: 0.9006 - val_loss: 0.3767 - val_accuracy: 0.8467\n",
            "Epoch 53/100\n",
            "70/70 [==============================] - 0s 2ms/step - loss: 0.2302 - accuracy: 0.9044 - val_loss: 0.3940 - val_accuracy: 0.8500\n",
            "Epoch 54/100\n",
            "70/70 [==============================] - 0s 3ms/step - loss: 0.2132 - accuracy: 0.9162 - val_loss: 0.3913 - val_accuracy: 0.8267\n",
            "Epoch 55/100\n",
            "70/70 [==============================] - 0s 2ms/step - loss: 0.2392 - accuracy: 0.9096 - val_loss: 0.3987 - val_accuracy: 0.8400\n",
            "Epoch 56/100\n",
            "70/70 [==============================] - 0s 2ms/step - loss: 0.2105 - accuracy: 0.9096 - val_loss: 0.3931 - val_accuracy: 0.8333\n",
            "Epoch 57/100\n",
            "70/70 [==============================] - 0s 2ms/step - loss: 0.2258 - accuracy: 0.9012 - val_loss: 0.3957 - val_accuracy: 0.8333\n",
            "Epoch 58/100\n",
            "70/70 [==============================] - 0s 3ms/step - loss: 0.2654 - accuracy: 0.8907 - val_loss: 0.4029 - val_accuracy: 0.8367\n",
            "Epoch 59/100\n",
            "70/70 [==============================] - 0s 2ms/step - loss: 0.2161 - accuracy: 0.9194 - val_loss: 0.3956 - val_accuracy: 0.8300\n",
            "Epoch 60/100\n",
            "70/70 [==============================] - 0s 2ms/step - loss: 0.2229 - accuracy: 0.9215 - val_loss: 0.3989 - val_accuracy: 0.8433\n",
            "Epoch 61/100\n",
            "70/70 [==============================] - 0s 2ms/step - loss: 0.2195 - accuracy: 0.9119 - val_loss: 0.4033 - val_accuracy: 0.8333\n",
            "Epoch 62/100\n",
            "70/70 [==============================] - 0s 2ms/step - loss: 0.2164 - accuracy: 0.9231 - val_loss: 0.4130 - val_accuracy: 0.8367\n",
            "Epoch 63/100\n",
            "70/70 [==============================] - 0s 2ms/step - loss: 0.1899 - accuracy: 0.9387 - val_loss: 0.4144 - val_accuracy: 0.8267\n",
            "Epoch 64/100\n",
            "70/70 [==============================] - 0s 3ms/step - loss: 0.2109 - accuracy: 0.9253 - val_loss: 0.4144 - val_accuracy: 0.8300\n",
            "Epoch 65/100\n",
            "70/70 [==============================] - 0s 2ms/step - loss: 0.2064 - accuracy: 0.9069 - val_loss: 0.4123 - val_accuracy: 0.8367\n",
            "Epoch 66/100\n",
            "70/70 [==============================] - 0s 2ms/step - loss: 0.1982 - accuracy: 0.9196 - val_loss: 0.4128 - val_accuracy: 0.8333\n",
            "Epoch 67/100\n",
            "70/70 [==============================] - 0s 2ms/step - loss: 0.2067 - accuracy: 0.9138 - val_loss: 0.4130 - val_accuracy: 0.8300\n",
            "Epoch 68/100\n",
            "70/70 [==============================] - 0s 2ms/step - loss: 0.1650 - accuracy: 0.9217 - val_loss: 0.4150 - val_accuracy: 0.8233\n",
            "Epoch 69/100\n",
            "70/70 [==============================] - 0s 2ms/step - loss: 0.1570 - accuracy: 0.9430 - val_loss: 0.4215 - val_accuracy: 0.8267\n",
            "Epoch 70/100\n",
            "70/70 [==============================] - 0s 3ms/step - loss: 0.1670 - accuracy: 0.9337 - val_loss: 0.4287 - val_accuracy: 0.8233\n",
            "Epoch 71/100\n",
            "70/70 [==============================] - 0s 2ms/step - loss: 0.1607 - accuracy: 0.9346 - val_loss: 0.4250 - val_accuracy: 0.8167\n",
            "Epoch 72/100\n",
            "70/70 [==============================] - 0s 2ms/step - loss: 0.1834 - accuracy: 0.9210 - val_loss: 0.4252 - val_accuracy: 0.8200\n",
            "Epoch 73/100\n",
            "70/70 [==============================] - 0s 2ms/step - loss: 0.1663 - accuracy: 0.9511 - val_loss: 0.4305 - val_accuracy: 0.8200\n",
            "Epoch 74/100\n",
            "70/70 [==============================] - 0s 2ms/step - loss: 0.1968 - accuracy: 0.9077 - val_loss: 0.4273 - val_accuracy: 0.8200\n",
            "Epoch 75/100\n",
            "70/70 [==============================] - 0s 3ms/step - loss: 0.1739 - accuracy: 0.9189 - val_loss: 0.4307 - val_accuracy: 0.8167\n",
            "Epoch 76/100\n",
            "70/70 [==============================] - 0s 2ms/step - loss: 0.1632 - accuracy: 0.9370 - val_loss: 0.4297 - val_accuracy: 0.8100\n",
            "Epoch 77/100\n",
            "70/70 [==============================] - 0s 2ms/step - loss: 0.1704 - accuracy: 0.9410 - val_loss: 0.4345 - val_accuracy: 0.8167\n",
            "Epoch 78/100\n",
            "70/70 [==============================] - 0s 2ms/step - loss: 0.1719 - accuracy: 0.9392 - val_loss: 0.4386 - val_accuracy: 0.8167\n",
            "Epoch 79/100\n",
            "70/70 [==============================] - 0s 2ms/step - loss: 0.1576 - accuracy: 0.9376 - val_loss: 0.4461 - val_accuracy: 0.8100\n",
            "Epoch 80/100\n",
            "70/70 [==============================] - 0s 2ms/step - loss: 0.1629 - accuracy: 0.9239 - val_loss: 0.4446 - val_accuracy: 0.8133\n",
            "Epoch 81/100\n",
            "70/70 [==============================] - 0s 2ms/step - loss: 0.1702 - accuracy: 0.9377 - val_loss: 0.4524 - val_accuracy: 0.8100\n",
            "Epoch 82/100\n",
            "70/70 [==============================] - 0s 2ms/step - loss: 0.1544 - accuracy: 0.9356 - val_loss: 0.4565 - val_accuracy: 0.8167\n",
            "Epoch 83/100\n",
            "70/70 [==============================] - 0s 2ms/step - loss: 0.1595 - accuracy: 0.9339 - val_loss: 0.4593 - val_accuracy: 0.8167\n",
            "Epoch 84/100\n",
            "70/70 [==============================] - 0s 2ms/step - loss: 0.1536 - accuracy: 0.9520 - val_loss: 0.4547 - val_accuracy: 0.8167\n",
            "Epoch 85/100\n",
            "70/70 [==============================] - 0s 3ms/step - loss: 0.1535 - accuracy: 0.9434 - val_loss: 0.4594 - val_accuracy: 0.8133\n",
            "Epoch 86/100\n",
            "70/70 [==============================] - 0s 2ms/step - loss: 0.1439 - accuracy: 0.9446 - val_loss: 0.4606 - val_accuracy: 0.8167\n",
            "Epoch 87/100\n",
            "70/70 [==============================] - 0s 2ms/step - loss: 0.1416 - accuracy: 0.9489 - val_loss: 0.4641 - val_accuracy: 0.8067\n",
            "Epoch 88/100\n",
            "70/70 [==============================] - 0s 2ms/step - loss: 0.1544 - accuracy: 0.9552 - val_loss: 0.4735 - val_accuracy: 0.8067\n",
            "Epoch 89/100\n",
            "70/70 [==============================] - 0s 2ms/step - loss: 0.1377 - accuracy: 0.9584 - val_loss: 0.4704 - val_accuracy: 0.8200\n",
            "Epoch 90/100\n",
            "70/70 [==============================] - 0s 2ms/step - loss: 0.1414 - accuracy: 0.9469 - val_loss: 0.4710 - val_accuracy: 0.8200\n",
            "Epoch 91/100\n",
            "70/70 [==============================] - 0s 2ms/step - loss: 0.1489 - accuracy: 0.9443 - val_loss: 0.4721 - val_accuracy: 0.8200\n",
            "Epoch 92/100\n",
            "70/70 [==============================] - 0s 2ms/step - loss: 0.1577 - accuracy: 0.9407 - val_loss: 0.4776 - val_accuracy: 0.8233\n",
            "Epoch 93/100\n",
            "70/70 [==============================] - 0s 2ms/step - loss: 0.1365 - accuracy: 0.9513 - val_loss: 0.4734 - val_accuracy: 0.8167\n",
            "Epoch 94/100\n",
            "70/70 [==============================] - 0s 3ms/step - loss: 0.1165 - accuracy: 0.9520 - val_loss: 0.4820 - val_accuracy: 0.8133\n",
            "Epoch 95/100\n",
            "70/70 [==============================] - 0s 2ms/step - loss: 0.1512 - accuracy: 0.9303 - val_loss: 0.4816 - val_accuracy: 0.8100\n",
            "Epoch 96/100\n",
            "70/70 [==============================] - 0s 2ms/step - loss: 0.1136 - accuracy: 0.9658 - val_loss: 0.4870 - val_accuracy: 0.8133\n",
            "Epoch 97/100\n",
            "70/70 [==============================] - 0s 2ms/step - loss: 0.1314 - accuracy: 0.9531 - val_loss: 0.4823 - val_accuracy: 0.8133\n",
            "Epoch 98/100\n",
            "70/70 [==============================] - 0s 2ms/step - loss: 0.1227 - accuracy: 0.9647 - val_loss: 0.4863 - val_accuracy: 0.8167\n",
            "Epoch 99/100\n",
            "70/70 [==============================] - 0s 2ms/step - loss: 0.1398 - accuracy: 0.9408 - val_loss: 0.4839 - val_accuracy: 0.8067\n",
            "Epoch 100/100\n",
            "70/70 [==============================] - 0s 2ms/step - loss: 0.1299 - accuracy: 0.9571 - val_loss: 0.4875 - val_accuracy: 0.8067\n"
          ],
          "name": "stdout"
        }
      ]
    },
    {
      "cell_type": "code",
      "metadata": {
        "colab": {
          "base_uri": "https://localhost:8080/"
        },
        "id": "Xbawn6XZE6GJ",
        "outputId": "4f23baaa-0ab2-43a3-905b-647e0f874a14"
      },
      "source": [
        "#Plot the epochs\n",
        "history.history.keys()"
      ],
      "execution_count": null,
      "outputs": [
        {
          "output_type": "execute_result",
          "data": {
            "text/plain": [
              "dict_keys(['loss', 'accuracy', 'val_loss', 'val_accuracy'])"
            ]
          },
          "metadata": {
            "tags": []
          },
          "execution_count": 946
        }
      ]
    },
    {
      "cell_type": "code",
      "metadata": {
        "colab": {
          "base_uri": "https://localhost:8080/",
          "height": 295
        },
        "id": "bfUFFfKoH_Kl",
        "outputId": "2bcd5b2b-6b41-4c17-9bdc-17ab64531590"
      },
      "source": [
        "#Plot the training and validation loss\n",
        "history_dict = history.history\n",
        "loss_values= history_dict['loss'] \n",
        "val_loss_values= history_dict['val_loss'] \n",
        "epochs1 = range(1, len(loss_values) + 1) # Specifies the range of X (no. of epochs specified above = 100)\n",
        "plt.plot(epochs1, loss_values, 'bo', label='Training loss') #Plot Training loss\n",
        "plt.plot(epochs1, val_loss_values, 'orange', label='Validation loss') #Plot validation loss\n",
        "plt.title('Training and validation loss') #Plot title\n",
        "plt.xlabel('Epochs') #Name of X axis \n",
        "plt.ylabel('Loss') #Name of Y axis\n",
        "plt.legend()\n",
        "plt.show()"
      ],
      "execution_count": null,
      "outputs": [
        {
          "output_type": "display_data",
          "data": {
            "image/png": "[encoded data removed]",
            "text/plain": [
              "<Figure size 432x288 with 1 Axes>"
            ]
          },
          "metadata": {
            "tags": [],
            "needs_background": "light"
          }
        }
      ]
    },
    {
      "cell_type": "code",
      "metadata": {
        "colab": {
          "base_uri": "https://localhost:8080/"
        },
        "id": "-oviMNBeLzzP",
        "outputId": "1cc0d62c-4f8e-49fe-ad85-5d2d20bc5cb5"
      },
      "source": [
        "#Store model predictions\n",
        "preds = np.round(model.predict(X_test),0)\n",
        "\n",
        "# View the confusion matrix\n",
        "confusion_matrix(y_test, preds) # (actual, predicted)"
      ],
      "execution_count": null,
      "outputs": [
        {
          "output_type": "execute_result",
          "data": {
            "text/plain": [
              "array([[208,  23],\n",
              "       [ 18,  51]])"
            ]
          },
          "metadata": {
            "tags": []
          },
          "execution_count": 949
        }
      ]
    },
    {
      "cell_type": "code",
      "metadata": {
        "colab": {
          "base_uri": "https://localhost:8080/"
        },
        "id": "asYMvsIEL4qk",
        "outputId": "d0516198-f67c-408e-dc6f-de9c698ad8b9"
      },
      "source": [
        "#View the model Classification report\n",
        "print(classification_report(y_test, preds))"
      ],
      "execution_count": null,
      "outputs": [
        {
          "output_type": "stream",
          "text": [
            "              precision    recall  f1-score   support\n",
            "\n",
            "           0       0.92      0.90      0.91       231\n",
            "           1       0.69      0.74      0.71        69\n",
            "\n",
            "    accuracy                           0.86       300\n",
            "   macro avg       0.80      0.82      0.81       300\n",
            "weighted avg       0.87      0.86      0.86       300\n",
            "\n"
          ],
          "name": "stdout"
        }
      ]
    },
    {
      "cell_type": "markdown",
      "metadata": {
        "id": "n8Qj9POxkcth"
      },
      "source": [
        "* The accuracy for the model created using no callbacks is 87% and the accuracy of the baseline Logistic regression model is 85%.\n",
        "* The model created has a higher accuracy compared to the baseline model."
      ]
    },
    {
      "cell_type": "markdown",
      "metadata": {
        "id": "MBf4Fu44I2Ri"
      },
      "source": [
        "##**Classification Model - With Callbacks**"
      ]
    },
    {
      "cell_type": "markdown",
      "metadata": {
        "id": "-kn6XnETlG7F"
      },
      "source": [
        "* We will be using Sequential API to build the model\n",
        "  * Input: 93 (The total number of columns which goes into the model)\n",
        "  * Nodes in Hidden Layer 1: 25\n",
        "  * Activation Function : Relu\n",
        "  * Nodes in Hidden Layer 2: 10\n",
        "  * Activation Fucntion : Tanh\n",
        "  * Nodes in Hidden Layer 3: 3\n",
        "  * Activation Function : Tanh\n",
        "  * Nodes in Output Layer : 1\n",
        "  * Activation Function : Sigmoid\n",
        "* Dropout function probability = 0.3 \n",
        "* Model compilation\n",
        "  * Optimizer: rmsprop\n",
        "  * Loss function: binary_crossentropy. \n",
        "  * Number of epochs = 100\n",
        "  * batch size = 10"
      ]
    },
    {
      "cell_type": "code",
      "metadata": {
        "colab": {
          "base_uri": "https://localhost:8080/"
        },
        "id": "JZGt3zQLIy9g",
        "outputId": "28358b06-b169-4a18-a5ad-f5d7c552cc88"
      },
      "source": [
        "# build a model\n",
        "\n",
        "model = Sequential() #Using Sequential API for building the Dense Neural Network\n",
        "model.add(Dense(25, input_shape=(X_train.shape[1],), activation = 'relu')) #Hidden Layer 1 with 25 hidden nodes and activation function as relu\n",
        "model.add(Dropout(0.3))\n",
        "model.add(Dense(10, activation='tanh')) #Hidden Layer 2 with 10 hidden nodes and activation function as tanh\n",
        "model.add(Dropout(0.3))\n",
        "model.add(Dense(3, activation='tanh')) #Hidden Layer 3 with 3 hidden nodes and activation function as tanh\n",
        "model.add(Dense(1, activation='sigmoid')) #Output layer with 1 node using sigmoid activation function as the sigmoid function converts the output values between 0 and 1\n",
        "model.summary() #Printing the summary of the model"
      ],
      "execution_count": null,
      "outputs": [
        {
          "output_type": "stream",
          "text": [
            "Model: \"sequential_35\"\n",
            "_________________________________________________________________\n",
            "Layer (type)                 Output Shape              Param #   \n",
            "=================================================================\n",
            "dense_115 (Dense)            (None, 25)                2350      \n",
            "_________________________________________________________________\n",
            "dropout_56 (Dropout)         (None, 25)                0         \n",
            "_________________________________________________________________\n",
            "dense_116 (Dense)            (None, 10)                260       \n",
            "_________________________________________________________________\n",
            "dropout_57 (Dropout)         (None, 10)                0         \n",
            "_________________________________________________________________\n",
            "dense_117 (Dense)            (None, 3)                 33        \n",
            "_________________________________________________________________\n",
            "dense_118 (Dense)            (None, 1)                 4         \n",
            "=================================================================\n",
            "Total params: 2,647\n",
            "Trainable params: 2,647\n",
            "Non-trainable params: 0\n",
            "_________________________________________________________________\n"
          ],
          "name": "stdout"
        }
      ]
    },
    {
      "cell_type": "code",
      "metadata": {
        "id": "Dl_A79dfPkqk"
      },
      "source": [
        "# compile the model\n",
        "model.compile(optimizer='rmsprop', # #Using rmsprop as the optimizer function\n",
        "              loss='binary_crossentropy', #Using binary cross entropy as the loss function since it is a binary classification problem\n",
        "              metrics=['accuracy']) #Specifying the accuracy metric of the model"
      ],
      "execution_count": null,
      "outputs": []
    },
    {
      "cell_type": "code",
      "metadata": {
        "colab": {
          "base_uri": "https://localhost:8080/"
        },
        "id": "lxVj_-UrPnqy",
        "outputId": "7ed4124d-63ae-4092-b692-708048cdaf63"
      },
      "source": [
        "# Early Stopping Callback\n",
        "es = EarlyStopping(monitor='val_accuracy', #Tracking validation accuracy for early stopping\n",
        "                                   mode = 'max', #Stop training the model when the accuracy is maximum.\n",
        "                                   patience = 10, #Number of epochs showing no improvement after training has stopped.\n",
        "                                   restore_best_weights = True) #Restore the weights from the epoch with max accuracy\n",
        "\n",
        "# Update the model fit call\n",
        "history = model.fit(X_train, y_train,\n",
        "                    callbacks=[es], #Using Early Stopping Callback\n",
        "                    epochs = 100, #  Number of iterations over the dataset \n",
        "                    batch_size = 10, #Number of samples per update \n",
        "                    validation_data=(X_test,y_test),\n",
        "                    shuffle = True, #Shuffle the instances\n",
        "                    verbose = 1)"
      ],
      "execution_count": null,
      "outputs": [
        {
          "output_type": "stream",
          "text": [
            "Epoch 1/100\n",
            "70/70 [==============================] - 1s 4ms/step - loss: 0.6154 - accuracy: 0.7109 - val_loss: 0.5423 - val_accuracy: 0.7700\n",
            "Epoch 2/100\n",
            "70/70 [==============================] - 0s 2ms/step - loss: 0.5791 - accuracy: 0.7329 - val_loss: 0.5273 - val_accuracy: 0.7700\n",
            "Epoch 3/100\n",
            "70/70 [==============================] - 0s 2ms/step - loss: 0.5398 - accuracy: 0.7577 - val_loss: 0.5111 - val_accuracy: 0.7700\n",
            "Epoch 4/100\n",
            "70/70 [==============================] - 0s 2ms/step - loss: 0.5350 - accuracy: 0.7413 - val_loss: 0.4902 - val_accuracy: 0.7700\n",
            "Epoch 5/100\n",
            "70/70 [==============================] - 0s 2ms/step - loss: 0.5417 - accuracy: 0.7390 - val_loss: 0.4723 - val_accuracy: 0.7800\n",
            "Epoch 6/100\n",
            "70/70 [==============================] - 0s 2ms/step - loss: 0.4837 - accuracy: 0.7845 - val_loss: 0.4575 - val_accuracy: 0.7967\n",
            "Epoch 7/100\n",
            "70/70 [==============================] - 0s 2ms/step - loss: 0.4951 - accuracy: 0.7669 - val_loss: 0.4407 - val_accuracy: 0.7967\n",
            "Epoch 8/100\n",
            "70/70 [==============================] - 0s 2ms/step - loss: 0.4703 - accuracy: 0.7947 - val_loss: 0.4239 - val_accuracy: 0.8033\n",
            "Epoch 9/100\n",
            "70/70 [==============================] - 0s 2ms/step - loss: 0.4659 - accuracy: 0.7822 - val_loss: 0.4155 - val_accuracy: 0.8000\n",
            "Epoch 10/100\n",
            "70/70 [==============================] - 0s 2ms/step - loss: 0.4304 - accuracy: 0.8139 - val_loss: 0.4031 - val_accuracy: 0.8100\n",
            "Epoch 11/100\n",
            "70/70 [==============================] - 0s 2ms/step - loss: 0.4248 - accuracy: 0.8027 - val_loss: 0.3996 - val_accuracy: 0.8100\n",
            "Epoch 12/100\n",
            "70/70 [==============================] - 0s 2ms/step - loss: 0.4157 - accuracy: 0.8121 - val_loss: 0.4004 - val_accuracy: 0.7967\n",
            "Epoch 13/100\n",
            "70/70 [==============================] - 0s 2ms/step - loss: 0.3733 - accuracy: 0.8442 - val_loss: 0.3875 - val_accuracy: 0.8300\n",
            "Epoch 14/100\n",
            "70/70 [==============================] - 0s 2ms/step - loss: 0.3887 - accuracy: 0.8255 - val_loss: 0.4022 - val_accuracy: 0.7933\n",
            "Epoch 15/100\n",
            "70/70 [==============================] - 0s 2ms/step - loss: 0.3927 - accuracy: 0.8465 - val_loss: 0.3798 - val_accuracy: 0.8233\n",
            "Epoch 16/100\n",
            "70/70 [==============================] - 0s 2ms/step - loss: 0.3637 - accuracy: 0.8409 - val_loss: 0.3796 - val_accuracy: 0.8233\n",
            "Epoch 17/100\n",
            "70/70 [==============================] - 0s 3ms/step - loss: 0.3234 - accuracy: 0.8716 - val_loss: 0.3800 - val_accuracy: 0.8200\n",
            "Epoch 18/100\n",
            "70/70 [==============================] - 0s 2ms/step - loss: 0.3328 - accuracy: 0.8685 - val_loss: 0.3799 - val_accuracy: 0.8133\n",
            "Epoch 19/100\n",
            "70/70 [==============================] - 0s 2ms/step - loss: 0.3746 - accuracy: 0.8493 - val_loss: 0.3668 - val_accuracy: 0.8300\n",
            "Epoch 20/100\n",
            "70/70 [==============================] - 0s 2ms/step - loss: 0.3117 - accuracy: 0.8797 - val_loss: 0.3688 - val_accuracy: 0.8367\n",
            "Epoch 21/100\n",
            "70/70 [==============================] - 0s 2ms/step - loss: 0.2960 - accuracy: 0.8841 - val_loss: 0.3692 - val_accuracy: 0.8533\n",
            "Epoch 22/100\n",
            "70/70 [==============================] - 0s 2ms/step - loss: 0.3059 - accuracy: 0.8852 - val_loss: 0.3679 - val_accuracy: 0.8400\n",
            "Epoch 23/100\n",
            "70/70 [==============================] - 0s 2ms/step - loss: 0.2723 - accuracy: 0.9192 - val_loss: 0.3698 - val_accuracy: 0.8433\n",
            "Epoch 24/100\n",
            "70/70 [==============================] - 0s 2ms/step - loss: 0.2706 - accuracy: 0.9068 - val_loss: 0.3622 - val_accuracy: 0.8667\n",
            "Epoch 25/100\n",
            "70/70 [==============================] - 0s 2ms/step - loss: 0.2876 - accuracy: 0.8874 - val_loss: 0.3682 - val_accuracy: 0.8600\n",
            "Epoch 26/100\n",
            "70/70 [==============================] - 0s 2ms/step - loss: 0.2384 - accuracy: 0.9086 - val_loss: 0.3661 - val_accuracy: 0.8600\n",
            "Epoch 27/100\n",
            "70/70 [==============================] - 0s 2ms/step - loss: 0.2803 - accuracy: 0.8983 - val_loss: 0.3713 - val_accuracy: 0.8467\n",
            "Epoch 28/100\n",
            "70/70 [==============================] - 0s 2ms/step - loss: 0.2735 - accuracy: 0.8954 - val_loss: 0.3729 - val_accuracy: 0.8567\n",
            "Epoch 29/100\n",
            "70/70 [==============================] - 0s 2ms/step - loss: 0.2051 - accuracy: 0.9252 - val_loss: 0.3693 - val_accuracy: 0.8600\n",
            "Epoch 30/100\n",
            "70/70 [==============================] - 0s 2ms/step - loss: 0.2419 - accuracy: 0.9272 - val_loss: 0.3870 - val_accuracy: 0.8467\n",
            "Epoch 31/100\n",
            "70/70 [==============================] - 0s 2ms/step - loss: 0.2213 - accuracy: 0.9333 - val_loss: 0.3824 - val_accuracy: 0.8533\n",
            "Epoch 32/100\n",
            "70/70 [==============================] - 0s 2ms/step - loss: 0.2307 - accuracy: 0.9134 - val_loss: 0.3859 - val_accuracy: 0.8500\n",
            "Epoch 33/100\n",
            "70/70 [==============================] - 0s 2ms/step - loss: 0.2293 - accuracy: 0.9231 - val_loss: 0.3862 - val_accuracy: 0.8533\n",
            "Epoch 34/100\n",
            "70/70 [==============================] - 0s 2ms/step - loss: 0.2571 - accuracy: 0.9202 - val_loss: 0.4085 - val_accuracy: 0.8433\n"
          ],
          "name": "stdout"
        }
      ]
    },
    {
      "cell_type": "code",
      "metadata": {
        "colab": {
          "base_uri": "https://localhost:8080/"
        },
        "id": "0-KeAzT3LQaS",
        "outputId": "002bb410-ad97-4014-f8d0-309403060eb7"
      },
      "source": [
        "#Store model predictions\n",
        "preds1 = np.round(model.predict(X_test),0)\n",
        "\n",
        "# View the confusion matrix\n",
        "confusion_matrix(y_test, preds) # (actual, predicted)"
      ],
      "execution_count": null,
      "outputs": [
        {
          "output_type": "execute_result",
          "data": {
            "text/plain": [
              "array([[208,  23],\n",
              "       [ 18,  51]])"
            ]
          },
          "metadata": {
            "tags": []
          },
          "execution_count": 970
        }
      ]
    },
    {
      "cell_type": "code",
      "metadata": {
        "colab": {
          "base_uri": "https://localhost:8080/"
        },
        "id": "K2YLEtFLLT4I",
        "outputId": "2e965ba6-fa55-47d8-d6cc-040a4dcb1a48"
      },
      "source": [
        "# View the Classification Report\n",
        "print(classification_report(y_test, preds1))"
      ],
      "execution_count": null,
      "outputs": [
        {
          "output_type": "stream",
          "text": [
            "              precision    recall  f1-score   support\n",
            "\n",
            "           0       0.91      0.92      0.91       231\n",
            "           1       0.72      0.70      0.71        69\n",
            "\n",
            "    accuracy                           0.87       300\n",
            "   macro avg       0.81      0.81      0.81       300\n",
            "weighted avg       0.87      0.87      0.87       300\n",
            "\n"
          ],
          "name": "stdout"
        }
      ]
    },
    {
      "cell_type": "markdown",
      "metadata": {
        "id": "9Gr8L4Cpncup"
      },
      "source": [
        "* The accuracy for the model created using callbacks is 86% and the accuracy of the baseline Logistic regression model is 85%.\n",
        "* The model created using early stopping with callbacks has a higher accuracy compared to the baseline model."
      ]
    },
    {
      "cell_type": "markdown",
      "metadata": {
        "id": "M2Scwg6wbTSw"
      },
      "source": [
        "# **Analysis & Results**"
      ]
    },
    {
      "cell_type": "markdown",
      "metadata": {
        "id": "qiKevpMAyiJJ"
      },
      "source": [
        "We first ran our data through a logistic regression model to establish the baseline for evaluating performance of our deep learning models."
      ]
    },
    {
      "cell_type": "markdown",
      "metadata": {
        "id": "jBEE1P61x_3h"
      },
      "source": [
        "## **Performance Metrics**"
      ]
    },
    {
      "cell_type": "markdown",
      "metadata": {
        "id": "xZhity_hyCq5"
      },
      "source": [
        "### Model 1"
      ]
    },
    {
      "cell_type": "markdown",
      "metadata": {
        "id": "-2GFk_-syIGS"
      },
      "source": [
        "* Accuracy of Model 1 is 87%.\n",
        "* The f-1 score is 0.71, suggesting that the model is predicting true positives and true negatives at the rate of 71%.\n",
        "* This is the best performing model."
      ]
    },
    {
      "cell_type": "markdown",
      "metadata": {
        "id": "s4Pbnfo2WFk7"
      },
      "source": [
        "### Model 2"
      ]
    },
    {
      "cell_type": "markdown",
      "metadata": {
        "id": "aZy0p4KRyniO"
      },
      "source": [
        "* Accuracy of Model 1 is 86%.\n",
        "* The f-1 score is 0.71, suggesting that the model is predicting true positives and true negatives at the rate of 71%."
      ]
    },
    {
      "cell_type": "markdown",
      "metadata": {
        "id": "BPFeEdcpte9v"
      },
      "source": [
        "## **Baseline Model**"
      ]
    },
    {
      "cell_type": "code",
      "metadata": {
        "colab": {
          "base_uri": "https://localhost:8080/"
        },
        "id": "OXAgtV9OWFUy",
        "outputId": "d3e15062-df26-4a11-c150-87ee6d2b7aa8"
      },
      "source": [
        "#Accuracy of the Baseline Model\n",
        "accuracy_baseline = accuracy_score(y_test,prediction)\n",
        "print('Accuracy %f' %accuracy_baseline)\n",
        "\n",
        "#AUC of the Baseline Model\n",
        "AUC_baseline = metrics.roc_auc_score(y_test,prediction)\n",
        "print('AUC %f' %AUC_baseline)"
      ],
      "execution_count": null,
      "outputs": [
        {
          "output_type": "stream",
          "text": [
            "Accuracy 0.850000\n",
            "AUC 0.755223\n"
          ],
          "name": "stdout"
        }
      ]
    },
    {
      "cell_type": "code",
      "metadata": {
        "id": "1KAzGhE5bWur",
        "colab": {
          "base_uri": "https://localhost:8080/"
        },
        "outputId": "a39f4a20-3d17-40c2-8a10-e0b9754958be"
      },
      "source": [
        "# The confusion matrix for the Baseline Model\n",
        "confusion_matrix(y_test, preds) # (actual, predicted)"
      ],
      "execution_count": null,
      "outputs": [
        {
          "output_type": "execute_result",
          "data": {
            "text/plain": [
              "array([[212,  19],\n",
              "       [ 21,  48]])"
            ]
          },
          "metadata": {
            "tags": []
          },
          "execution_count": 1002
        }
      ]
    },
    {
      "cell_type": "code",
      "metadata": {
        "colab": {
          "base_uri": "https://localhost:8080/"
        },
        "id": "0i3pDlb0XB6C",
        "outputId": "7af27799-8ea6-4d48-b14f-e5d6e4ec7a6a"
      },
      "source": [
        "#Classification report of the Baseline Model\n",
        "print(classification_report(y_test, preds_baseline))"
      ],
      "execution_count": null,
      "outputs": [
        {
          "output_type": "stream",
          "text": [
            "              precision    recall  f1-score   support\n",
            "\n",
            "           0       0.88      0.93      0.91       231\n",
            "           1       0.71      0.58      0.64        69\n",
            "\n",
            "    accuracy                           0.85       300\n",
            "   macro avg       0.80      0.76      0.77       300\n",
            "weighted avg       0.84      0.85      0.84       300\n",
            "\n"
          ],
          "name": "stdout"
        }
      ]
    },
    {
      "cell_type": "markdown",
      "metadata": {
        "id": "uEOnexfvXmNE"
      },
      "source": [
        "We then went on to build two models to run the selected rows of our dataset through. The first model was the classification model with no callbacks and the second was the classification model with callbacks. Both these models had different number of hidden layers and various activation functions."
      ]
    },
    {
      "cell_type": "markdown",
      "metadata": {
        "id": "ae7DBMRLvcMv"
      },
      "source": [
        "## **Learning Curve**"
      ]
    },
    {
      "cell_type": "markdown",
      "metadata": {
        "id": "4lvJ8gRewaAF"
      },
      "source": [
        "### Model 1"
      ]
    },
    {
      "cell_type": "code",
      "metadata": {
        "colab": {
          "base_uri": "https://localhost:8080/",
          "height": 295
        },
        "id": "3m155HWPvhnw",
        "outputId": "01db779e-463b-47e7-b8f9-63436370a1cd"
      },
      "source": [
        "## Evaluate the Model 1- The one without callback\n",
        "# learning curve\n",
        "import matplotlib.pyplot as plt\n",
        "\n",
        "# accuracy\n",
        "acc1 = history1.history['accuracy']\n",
        "val_acc1 = history1.history['val_accuracy']\n",
        "\n",
        "# loss\n",
        "loss1 = history1.history['loss']\n",
        "val_loss1 = history1.history['val_loss']\n",
        "\n",
        "epochs1 = range(1, len(acc1) + 1)\n",
        "\n",
        "# \"r\" is for \"solid red line\"\n",
        "plt.plot(epochs1, acc1, 'r', label='Training accuracy')\n",
        "# b is for \"solid blue line\"\n",
        "plt.plot(epochs1, val_acc1, 'b', label='Validation accuracy')\n",
        "plt.title('Training and validation accuracy')\n",
        "plt.xlabel('Epochs')\n",
        "plt.ylabel('Accuracy')\n",
        "plt.legend()\n",
        "\n",
        "plt.show()"
      ],
      "execution_count": null,
      "outputs": [
        {
          "output_type": "display_data",
          "data": {
            "image/png": "[encoded data removed]",
            "text/plain": [
              "<Figure size 432x288 with 1 Axes>"
            ]
          },
          "metadata": {
            "tags": [],
            "needs_background": "light"
          }
        }
      ]
    },
    {
      "cell_type": "code",
      "metadata": {
        "colab": {
          "base_uri": "https://localhost:8080/"
        },
        "id": "l846ZDvTRqEs",
        "outputId": "f414aa5f-e79b-4434-8eae-9fd9bde345b3"
      },
      "source": [
        "# Maximum Validation Accuracy or Total Accuracy for Model 1\n",
        "np.max(val_acc1)"
      ],
      "execution_count": null,
      "outputs": [
        {
          "output_type": "execute_result",
          "data": {
            "text/plain": [
              "0.8733333349227905"
            ]
          },
          "metadata": {
            "tags": []
          },
          "execution_count": 1005
        }
      ]
    },
    {
      "cell_type": "markdown",
      "metadata": {
        "id": "ydDx9LhBuUsj"
      },
      "source": [
        "### Model 2"
      ]
    },
    {
      "cell_type": "code",
      "metadata": {
        "colab": {
          "base_uri": "https://localhost:8080/",
          "height": 295
        },
        "id": "HK8b7HziL9CP",
        "outputId": "0577f87f-796a-4ce1-ba09-38386fdf91d3"
      },
      "source": [
        "## Evaluate the Model 2- The one with callback\n",
        "# learning curve\n",
        "import matplotlib.pyplot as plt\n",
        "\n",
        "# accuracy\n",
        "acc = history.history['accuracy']\n",
        "val_acc = history.history['val_accuracy']\n",
        "\n",
        "# loss\n",
        "loss = history.history['loss']\n",
        "val_loss = history.history['val_loss']\n",
        "\n",
        "epochs = range(1, len(acc) + 1)\n",
        "\n",
        "# \"r\" is for \"solid red line\"\n",
        "plt.plot(epochs, acc, 'r', label='Training accuracy')\n",
        "# b is for \"solid blue line\"\n",
        "plt.plot(epochs, val_acc, 'b', label='Validation accuracy')\n",
        "plt.title('Training and Validation accuracy')\n",
        "plt.xlabel('Epochs')\n",
        "plt.ylabel('Accuracy')\n",
        "plt.legend()\n",
        "\n",
        "plt.show()"
      ],
      "execution_count": null,
      "outputs": [
        {
          "output_type": "display_data",
          "data": {
            "image/png": "[encoded data removed]",
            "text/plain": [
              "<Figure size 432x288 with 1 Axes>"
            ]
          },
          "metadata": {
            "tags": [],
            "needs_background": "light"
          }
        }
      ]
    },
    {
      "cell_type": "code",
      "metadata": {
        "colab": {
          "base_uri": "https://localhost:8080/"
        },
        "id": "kAjeMCjYUYf3",
        "outputId": "89e6b568-225a-4a33-a35b-7dde0f5acbe8"
      },
      "source": [
        "# Maximum Validation Accuracy or Total Accuracy for Model 2\n",
        "np.max(val_acc)"
      ],
      "execution_count": null,
      "outputs": [
        {
          "output_type": "execute_result",
          "data": {
            "text/plain": [
              "0.8666666746139526"
            ]
          },
          "metadata": {
            "tags": []
          },
          "execution_count": 1007
        }
      ]
    },
    {
      "cell_type": "markdown",
      "metadata": {
        "id": "oL72Lu5vVH-r"
      },
      "source": [
        "## **Classification Report & Confusion Matrices**"
      ]
    },
    {
      "cell_type": "markdown",
      "metadata": {
        "id": "vvt403IbVMlC"
      },
      "source": [
        "### Model 1"
      ]
    },
    {
      "cell_type": "code",
      "metadata": {
        "colab": {
          "base_uri": "https://localhost:8080/"
        },
        "id": "3mtCO9vLO-GQ",
        "outputId": "9f055e2f-2fe9-4cc9-e437-4e5545489253"
      },
      "source": [
        "# Model 1\n",
        "from sklearn.metrics import confusion_matrix\n",
        "from sklearn.metrics import classification_report\n",
        "\n",
        "preds1 = np.round(model1.predict(X_test),0)\n",
        "print(confusion_matrix(y_test,preds1))\n",
        "print(classification_report(y_test,preds))\n"
      ],
      "execution_count": null,
      "outputs": [
        {
          "output_type": "stream",
          "text": [
            "[[204  27]\n",
            " [ 31  38]]\n",
            "              precision    recall  f1-score   support\n",
            "\n",
            "           0       0.91      0.92      0.91       231\n",
            "           1       0.72      0.70      0.71        69\n",
            "\n",
            "    accuracy                           0.87       300\n",
            "   macro avg       0.81      0.81      0.81       300\n",
            "weighted avg       0.87      0.87      0.87       300\n",
            "\n"
          ],
          "name": "stdout"
        }
      ]
    },
    {
      "cell_type": "code",
      "metadata": {
        "colab": {
          "base_uri": "https://localhost:8080/"
        },
        "id": "d-rqbq1HU5fc",
        "outputId": "9c2f421a-e776-416b-d445-5085c803fb46"
      },
      "source": [
        "# Model 1- Confusion Matrices\n",
        "cm1 = confusion_matrix(y_test,preds)\n",
        "TP1 = cm1[0][0]\n",
        "FP1 = cm1[0][1]\n",
        "FN1 = cm1[1][0]\n",
        "TN1 = cm1[1][1]\n",
        "\n",
        "# Sensitivity, hit rate, recall, or true positive rate\n",
        "TPR1 = round(TP1/(TP1+FN1), 2)\n",
        "# Specificity or true negative rate\n",
        "TNR1 = round(TN1/(TN1+FP1), 2) \n",
        "# Precision or positive predictive value\n",
        "PPV1 = round(TP1/(TP1+FP1), 2)\n",
        "# Negative predictive value\n",
        "NPV1 = round(TN1/(TN1+FN1), 2)\n",
        "# Fall out or false positive rate\n",
        "FPR1 = round(FP1/(FP1+TN1), 2)\n",
        "# False negative rate\n",
        "FNR1 = round(FN1/(TP1+FN1), 2)\n",
        "# False discovery rate\n",
        "FDR1 = round(FP1/(TP1+FP1), 2)\n",
        "\n",
        "# Overall accuracy\n",
        "ACC1 = round((TP1+TN1)/(TP1+FP1+FN1+TN1), 2)\n",
        "\n",
        "print(\"True Positive Rate: \", TPR1)\n",
        "print(\"True Negative Rate: \", TNR1)\n",
        "print(\"False Positive Rate: \", FPR1)\n",
        "print(\"False Negative Rate: \", FNR1)\n",
        "print(\"Positive Predicted Value: \", PPV1)\n",
        "print(\"Negative Predicted Value : \", NPV1)\n",
        "print(\"False Discovery Rate: \", FDR1)\n",
        "print(\"Accuracy: \", ACC1)"
      ],
      "execution_count": null,
      "outputs": [
        {
          "output_type": "stream",
          "text": [
            "True Positive Rate:  0.91\n",
            "True Negative Rate:  0.72\n",
            "False Positive Rate:  0.28\n",
            "False Negative Rate:  0.09\n",
            "Positive Predicted Value:  0.92\n",
            "Negative Predicted Value :  0.7\n",
            "False Discovery Rate:  0.08\n",
            "Accuracy:  0.87\n"
          ],
          "name": "stdout"
        }
      ]
    },
    {
      "cell_type": "markdown",
      "metadata": {
        "id": "jWAf3L5aw07e"
      },
      "source": [
        "### Model 2"
      ]
    },
    {
      "cell_type": "code",
      "metadata": {
        "colab": {
          "base_uri": "https://localhost:8080/"
        },
        "id": "5-TX8G0mXTH0",
        "outputId": "191de996-8915-4409-ad46-0a9dbf406813"
      },
      "source": [
        "# Model 2- The one with callback\n",
        "from sklearn.metrics import confusion_matrix\n",
        "from sklearn.metrics import classification_report\n",
        "\n",
        "preds = np.round(model.predict(X_test),0)\n",
        "print(confusion_matrix(y_test,preds))\n",
        "print(classification_report(y_test,preds1))"
      ],
      "execution_count": null,
      "outputs": [
        {
          "output_type": "stream",
          "text": [
            "[[212  19]\n",
            " [ 21  48]]\n",
            "              precision    recall  f1-score   support\n",
            "\n",
            "           0       0.87      0.88      0.88       231\n",
            "           1       0.58      0.55      0.57        69\n",
            "\n",
            "    accuracy                           0.81       300\n",
            "   macro avg       0.73      0.72      0.72       300\n",
            "weighted avg       0.80      0.81      0.80       300\n",
            "\n"
          ],
          "name": "stdout"
        }
      ]
    },
    {
      "cell_type": "code",
      "metadata": {
        "colab": {
          "base_uri": "https://localhost:8080/"
        },
        "id": "JxCa58gqXz1N",
        "outputId": "17e54757-bca1-4581-916f-a3ed260f6a68"
      },
      "source": [
        "# Model 2 -The one with callback : Confusion Matrices\n",
        "cm1 = confusion_matrix(y_test,preds1)\n",
        "TP = cm1[0][0]\n",
        "FP = cm1[0][1]\n",
        "FN = cm1[1][0]\n",
        "TN = cm1[1][1]\n",
        "\n",
        "# Sensitivity, hit rate, recall, or true positive rate\n",
        "TPR = round(TP/(TP+FN), 2)\n",
        "# Specificity or true negative rate\n",
        "TNR = round(TN/(TN+FP), 2) \n",
        "# Precision or positive predictive value\n",
        "PPV = round(TP/(TP+FP), 2)\n",
        "# Negative predictive value\n",
        "NPV = round(TN/(TN+FN), 2)\n",
        "# Fall out or false positive rate\n",
        "FPR = round(FP/(FP+TN), 2)\n",
        "# False negative rate\n",
        "FNR = round(FN/(TP+FN), 2)\n",
        "# False discovery rate\n",
        "FDR = round(FP/(TP+FP), 2)\n",
        "\n",
        "# Overall accuracy\n",
        "ACC = round((TP+TN)/(TP+FP+FN+TN), 2)\n",
        "\n",
        "print(\"True Positive Rate: \", TPR)\n",
        "print(\"True Negative Rate: \", TNR)\n",
        "print(\"False Positive Rate: \", FPR)\n",
        "print(\"False Negative Rate: \", FNR)\n",
        "print(\"Positive Predicted Value: \", PPV)\n",
        "print(\"Negative Predicted Value : \", NPV)\n",
        "print(\"False Discovery Rate: \", FDR)\n",
        "print(\"Accuracy: \", ACC)\n"
      ],
      "execution_count": null,
      "outputs": [
        {
          "output_type": "stream",
          "text": [
            "True Positive Rate:  0.87\n",
            "True Negative Rate:  0.58\n",
            "False Positive Rate:  0.42\n",
            "False Negative Rate:  0.13\n",
            "Positive Predicted Value:  0.88\n",
            "Negative Predicted Value :  0.55\n",
            "False Discovery Rate:  0.12\n",
            "Accuracy:  0.81\n"
          ],
          "name": "stdout"
        }
      ]
    },
    {
      "cell_type": "markdown",
      "metadata": {
        "id": "RDCl3kIF0BS3"
      },
      "source": [
        "#Conculsion "
      ]
    },
    {
      "cell_type": "markdown",
      "metadata": {
        "id": "LQ0gluDM4eM-"
      },
      "source": [
        "The models that were created had an average accuracy rate of 86% to detect the probability of fraud in an insurance claim.This model was successful in detecting fraud based on our selected variables with a high degree of accuracy. By playing around with the neural networks and changing various features like the activation fucntions, number of hidden layers and the nodes in those layers we were able to build models with high accuracy. \n",
        "\n",
        "The procedures to detect fraud in the past were largely based on instinct and unsubstantial facts which hardly serves our purpose in the present. Current frauds occur in an organized manner and it is difficult to identify them without a sophisticated system. We have shifted to a statistical and analytical approach towards detecting fraud. This will enable businesses to minimize loss ratios and improve their efficiency and performance. \n",
        "\n",
        "Based on this work, it would be reasonable to suggest insurance companies or anti-fraud agencies to set up systems or frameworks that can process all claims and alert them when claims with similar characteristics are filed. Also it is suggested to form teams solely to investigate these in a more effective and detailed manner when receiving these alerts of having a higher probability of fraud. Another recommendation is to hold on processing someone’s insurance claim until the company receives a police report in case of theft or drunk driving accidents, or some photo evidence in case of collisions or hit accidents. That’s not to say that exceptions may not happen, but this would be the general trend in the population. \n",
        "Insurance companies, in this case the car insurance industry, and their leaders should keep in mind that there is no one solution for all, and people with ill-intent constantly develop work arounds for the rules and regulations and come up with new ways of committing fraud. Companies may take help of market research to update the predictive models on a constant basis to account for such changes, for better identification. They may also develop frameworks to score the claims on the basis of availability of proof and documentation, and any claim that falls below a certain threshold should be kept on hold and investigated further. In conclusion, always be ready to adapt quickly to changing market conditions and in turn, improve their fraud detection.\n",
        "\n",
        "\n"
      ]
    },
    {
      "cell_type": "markdown",
      "metadata": {
        "id": "ctqMFIXBbfp7"
      },
      "source": [
        "# Citations"
      ]
    },
    {
      "cell_type": "markdown",
      "metadata": {
        "id": "PGZcBJMKh2bE"
      },
      "source": [
        "Works Cited\n",
        "\n",
        "[1] “Insurance Fraud.” FBI, FBI, 17 Mar. 2010, fbi.gov/stats-services/publications/insurance-fraud. \n",
        "\n",
        "[2] “Background on: Insurance Fraud.” Insurance Information Institute, Insurance Information Institute, Inc., 18 Nov. 2020, www.iii.org/article/background-on-insurance-fraud. \n",
        "\n",
        "[3] “Insurance Fraud Examples.” Nebraska DOI, Nebraska Department of Insurance, doi.nebraska.gov/sites/doi.nebraska.gov/files/doc/examples.pdf. \n",
        "\n",
        "[4] FOXBusiness. “The True Cost of Auto Insurance Fraud - How We All Pay In Increased Premiums.” Fox Business, Fox Business, 6 Jan. 2016, www.foxbusiness.com/features/the-true-cost-of-auto-insurance-fraud-how-we-all-pay-in-increased-premiums.\n",
        "\n",
        "[5] “5 Types Of Car Insurance Fraud.” Allstate Car Insurance Resources, Allstate, July 2020, www.allstate.com/tr/car-insurance/5-types-of-car-insurance-fraud.aspx. \n",
        "\n",
        "[6] Corum, David. “Insurance Research Council Finds That Fraud and Buildup Add Up to $7.7 Billion in Excess Payments for Auto Injury Claims.” Insurance Research Council, Insurance Research Council, 3 Feb. 2015, www.insurance-research.org/sites/default/files/downloads/IRC%20Fraud%20News%20Release.pdf.\n",
        "\n",
        "[7] Edmunds. “Auto Insurance Fraud: What It Costs You.” Edmunds, 25 Aug. 2009, www.edmunds.com/auto-insurance/auto-insurance-fraud-what-it-costs-you.html#\n",
        "\n",
        "[8] “The Role of Data and Analytics in Insurance Fraud Detection: Reuters Events: Insurance.” The Role of Data and Analytics in Insurance Fraud Detection | Reuters Events | Insurance, www.reutersevents.com/insurance/fraud/role-data-and-analytics-insurance-fraud-detection. \n",
        "\n",
        "[9] Pandhare, Sachin. “Big Data Analytics: Whistleblower on Insurance Fraud.” Infosys, Infosys Limited, 2018, www.infosys.com/industries/insurance/white-papers/documents/new-whistleblower-insurance-fraud.pdf. \n",
        "\n",
        "[10] Roy, Riya, and Thomas K George. “Detecting Insurance Claims Fraud Using Machine Learning Techniques.” IEEE Xplore, Apr. 2017, ieeexplore.ieee.org/abstract/document/8074258. "
      ]
    }
  ]
}